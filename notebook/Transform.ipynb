{
 "cells": [
  {
   "cell_type": "markdown",
   "id": "710119c6-fc22-4c91-bb22-ac481e1423f8",
   "metadata": {},
   "source": [
    "## 1. Tạo Class"
   ]
  },
  {
   "cell_type": "code",
   "execution_count": 1,
   "id": "360cbdb1-4c17-4361-8ebf-197b94ef2305",
   "metadata": {},
   "outputs": [
    {
     "name": "stderr",
     "output_type": "stream",
     "text": [
      "/home/dataguy/miniconda3/envs/redditenv/lib/python3.11/site-packages/tqdm/auto.py:21: TqdmWarning: IProgress not found. Please update jupyter and ipywidgets. See https://ipywidgets.readthedocs.io/en/stable/user_install.html\n",
      "  from .autonotebook import tqdm as notebook_tqdm\n"
     ]
    }
   ],
   "source": [
    "from pyspark.sql import functions as F\n",
    "from pyspark.sql import SparkSession\n",
    "from pyspark.sql.types import *\n",
    "from pyspark.sql.functions import *\n",
    "from pyspark.sql.window import Window\n"
   ]
  },
  {
   "cell_type": "code",
   "execution_count": 2,
   "id": "c97a59c7-1f12-4429-9666-b9082e0533a2",
   "metadata": {},
   "outputs": [],
   "source": [
    "class BaseTransformer:\n",
    "    def __init__(self, sparkSession):\n",
    "        self.spark = sparkSession\n",
    "    def readData(self, path, format=\"json\", schema=None):\n",
    "        reader=self.spark.read.format(format)\n",
    "        if schema:\n",
    "            reader.schema(schema)\n",
    "        df=reader.load(path)\n",
    "        return df\n",
    "    def writeData(self, df, path, format=\"json\", dbPath=None, checkpointPath=None, mode=\"append\", streaming=False):\n",
    "        if streaming:\n",
    "            writer = (\n",
    "                df.writeStream\n",
    "                .format(format)\n",
    "                .option(\"checkpointLocation\", checkpointPath)\n",
    "                .outputMode(mode)\n",
    "            )\n",
    "            query = writer.toTable(dbPath)\n",
    "            query.awaitTermination()\n",
    "        else:\n",
    "            (\n",
    "                df.write\n",
    "                .format(format)\n",
    "                .mode(mode)\n",
    "                .save(path)\n",
    "            )\n",
    "    def showShape(self, df):\n",
    "        return (len(df.columns), df.count())\n",
    "\n",
    "    def convertTimestamp(self, df, colName=\"created_utc\", newCol=\"createdDate\"):\n",
    "        return df.withColumn(\n",
    "            newCol,\n",
    "            F.from_unixtime(F.col(colName)).cast(\"timestamp\")\n",
    "        )\n",
    "\n",
    "    def markAuthorDeleted(self, df, authorCol=\"author\", nameAuthor=\"author_fullname\", newCol=\"accDeleted\"):\n",
    "        return df.withColumn(\n",
    "            newCol,\n",
    "            (F.col(authorCol) == \"[deleted]\") & F.col(nameAuthor).isNull()\n",
    "        )\n",
    "\n",
    "    def markBodyRemoved(self, df, body=\"selftext\", newCol=\"postDeleted\"):\n",
    "        return df.withColumn(\n",
    "            newCol,\n",
    "            F.col(body) == \"[removed]\"\n",
    "        )"
   ]
  },
  {
   "cell_type": "code",
   "execution_count": 3,
   "id": "abfebd81-cb5c-4f63-b229-9b974e8f29d7",
   "metadata": {},
   "outputs": [],
   "source": [
    "class SubmissionTransformer(BaseTransformer):\n",
    "    def __init__(self, sparkSession):\n",
    "        super().__init__(sparkSession)\n",
    "\n",
    "    def markSpamPost(self, df, titleCol=\"title\", urlCol=\"url\", domainCol=\"domain\", subredditCol=\"subreddit\", newCol=\"isPostSpam\"):\n",
    "        words = F.split(F.lower(F.col(titleCol)), \" \")\n",
    "        numMatched = F.size(\n",
    "        F.expr(f\"filter(split(lower({titleCol}), ' '), word -> instr(lower({urlCol}), word) > 0)\")\n",
    "        )        \n",
    "        totalWord = F.size(words)\n",
    "        matchPercent = (numMatched * 100) / totalWord\n",
    "        isPostSpam = (matchPercent >= 55) & (\n",
    "        F.col(domainCol) != F.concat(F.lit(\"self.\"), F.col(subredditCol))\n",
    "        )\n",
    "        \n",
    "        return df.withColumn(\"matchPercent\", matchPercent).withColumn(newCol, isPostSpam)        \n",
    "\n",
    "    def transform(self, df):\n",
    "        df = self.convertTimestamp(df)\n",
    "        df = self.markAuthorDeleted(df) \n",
    "        df = self.markBodyRemoved(df)\n",
    "        df = self.markSpamPost(df)\n",
    "        return df"
   ]
  },
  {
   "cell_type": "code",
   "execution_count": 4,
   "id": "c9ad3334-9080-4aa0-ac82-ad18960fdeb2",
   "metadata": {},
   "outputs": [],
   "source": [
    "class CommentTransformer(BaseTransformer):\n",
    "    def __init__(self, sparkSession):\n",
    "        super().__init__(sparkSession)\n",
    "\n",
    "    def normalizeParentId(self, df, parentIdCol=\"parent_id\", newCol=\"parent_clean\"):\n",
    "        \"\"\"Removes prefixes like 't3_' and 't1_' from parent_id.\"\"\"\n",
    "        return df.withColumn(\n",
    "            newCol,\n",
    "            F.regexp_replace(F.col(parentIdCol), r\"^(t[13]_)\", \"\")\n",
    "        )\n",
    "\n",
    "    def normalizeLinkId(self, df, linkIdCol=\"link_id\", newCol=\"link_clean\"):\n",
    "        \"\"\"Removes the 't3_' prefix from link_id.\"\"\"\n",
    "        return df.withColumn(\n",
    "            newCol,\n",
    "            F.regexp_replace(F.col(linkIdCol), r\"^t3_\", \"\")\n",
    "        )\n",
    "    \n",
    "    def markModComments(self, df, authorCol=\"author\", newColMod=\"deleted_by_mod\", newColAutoMod=\"deleted_by_auto\"):\n",
    "        \"\"\"Marks comments from Mod Team or AutoModerator.\"\"\"\n",
    "        df_with_mod = df.withColumn(\n",
    "            newColMod,\n",
    "            F.lower(F.col(authorCol)).like(\"%-modteam\")\n",
    "        )\n",
    "        return df_with_mod.withColumn(\n",
    "            newColAutoMod,\n",
    "            F.col(authorCol) == \"AutoModerator\"\n",
    "        )\n",
    "    def transform(self, df):\n",
    "        df = self.convertTimestamp(df)\n",
    "        df = self.markAuthorDeleted(df) \n",
    "        df = self.markBodyRemoved(df, body=\"body\", newCol=\"cmtDeleted\")\n",
    "        df = self.normalizeParentId(df)\n",
    "        df = self.normalizeLinkId(df)\n",
    "        df = self.markModComments(df)\n",
    "        return df"
   ]
  },
  {
   "cell_type": "code",
   "execution_count": 5,
   "id": "8dd1c600-cdb5-438c-9181-546b3a0b65cf",
   "metadata": {},
   "outputs": [],
   "source": [
    "\n",
    "# client = Client(\"dataguychill/sentiment\")\n",
    "\n",
    "# result = client.predict(\n",
    "#     \"hey, i love you!\",    \n",
    "#     api_name=\"/predict\"        \n",
    "# )\n",
    "\n",
    "# print(result)\n"
   ]
  },
  {
   "cell_type": "code",
   "execution_count": 6,
   "id": "ef40bd7e-14ad-4bd9-9e1b-ee32b64a5119",
   "metadata": {},
   "outputs": [
    {
     "ename": "NameError",
     "evalue": "name 'spark' is not defined",
     "output_type": "error",
     "traceback": [
      "\u001b[31m---------------------------------------------------------------------------\u001b[39m",
      "\u001b[31mNameError\u001b[39m                                 Traceback (most recent call last)",
      "\u001b[36mCell\u001b[39m\u001b[36m \u001b[39m\u001b[32mIn[6]\u001b[39m\u001b[32m, line 16\u001b[39m\n\u001b[32m      1\u001b[39m \u001b[38;5;66;03m# spark = SparkSession.builder \\\u001b[39;00m\n\u001b[32m      2\u001b[39m \u001b[38;5;66;03m#     .appName(\"Test df\") \\\u001b[39;00m\n\u001b[32m      3\u001b[39m \u001b[38;5;66;03m#     .getOrCreate()\u001b[39;00m\n\u001b[32m   (...)\u001b[39m\u001b[32m     12\u001b[39m \n\u001b[32m     13\u001b[39m \u001b[38;5;66;03m# sentimentUdf = udf(predict_sentiment, StringType())\u001b[39;00m\n\u001b[32m     15\u001b[39m data = [(\u001b[33m\"\u001b[39m\u001b[33msuck the fuck\u001b[39m\u001b[33m\"\u001b[39m,), (\u001b[33m\"\u001b[39m\u001b[33mI love uuu\u001b[39m\u001b[33m\"\u001b[39m,), (\u001b[33m\"\u001b[39m\u001b[33mhalo world\u001b[39m\u001b[33m\"\u001b[39m,)]\n\u001b[32m---> \u001b[39m\u001b[32m16\u001b[39m dfTest = \u001b[43mspark\u001b[49m.createDataFrame(data, [\u001b[33m\"\u001b[39m\u001b[33mbody\u001b[39m\u001b[33m\"\u001b[39m])\n\u001b[32m     18\u001b[39m dfTest = dfTest.withColumn(\u001b[33m\"\u001b[39m\u001b[33msentiment\u001b[39m\u001b[33m\"\u001b[39m, sentimentUdf(col(\u001b[33m\"\u001b[39m\u001b[33mbody\u001b[39m\u001b[33m\"\u001b[39m)))\n\u001b[32m     20\u001b[39m dfTest.show(truncate=\u001b[38;5;28;01mFalse\u001b[39;00m)\n",
      "\u001b[31mNameError\u001b[39m: name 'spark' is not defined"
     ]
    }
   ],
   "source": [
    "# spark = SparkSession.builder \\\n",
    "#     .appName(\"Test df\") \\\n",
    "#     .getOrCreate()\n",
    "\n",
    "# def predict_sentiment(text):\n",
    "#     try:\n",
    "#         client = Client(\"dataguychill/sentiment\")\n",
    "#         result = client.predict(text, api_name=\"/predict\")\n",
    "#         return result\n",
    "#     except Exception as e:\n",
    "#         return f\"Error: {str(e)}\"\n",
    "\n",
    "# sentimentUdf = udf(predict_sentiment, StringType())\n",
    "\n",
    "# data = [(\"suck the fuck\",), (\"I love uuu\",), (\"halo world\",)]\n",
    "# dfTest = spark.createDataFrame(data, [\"body\"])\n",
    "\n",
    "# dfTest = dfTest.withColumn(\"sentiment\", sentimentUdf(col(\"body\")))\n",
    "\n",
    "# dfTest.show(truncate=False)\n",
    "\n",
    "# spark.stop()"
   ]
  },
  {
   "cell_type": "code",
   "execution_count": 7,
   "id": "cd3357c8-e8b0-419d-b298-b51d2c584f41",
   "metadata": {},
   "outputs": [],
   "source": [
    "def predict_sentiment(text):\n",
    "    try:\n",
    "        client = Client(\"dataguychill/sentiment\")\n",
    "        result = client.predict(text, api_name=\"/predict\")\n",
    "        return result\n",
    "    except Exception as e:\n",
    "        return f\"Error: {str(e)}\"\n",
    "\n",
    "sentimentUdf = udf(predict_sentiment, StringType())"
   ]
  },
  {
   "cell_type": "code",
   "execution_count": 67,
   "id": "38338e83-08a5-4ce7-a862-2bfd0adbad94",
   "metadata": {},
   "outputs": [],
   "source": [
    "class GoldTransformer(BaseTransformer):\n",
    "    def __init__(self, sparkSession, dfSubmission, dfComment):\n",
    "        super().__init__(sparkSession)\n",
    "        self.dfSubmission = dfSubmission\n",
    "        self.dfComment = dfComment\n",
    "    \n",
    "    def createDimTime(self,timestampCol=\"createdDate\"):\n",
    "        dfTimestamp=(self.dfSubmission.select(timestampCol).distinct().union(self.dfComment.select(timestampCol).distinct())).distinct()\n",
    "        dimTime=(dfTimestamp.withColumn(\"year\", F.year(F.col(timestampCol)))\n",
    "                            .withColumn(\"month\", F.month(F.col(timestampCol)))\n",
    "                            .withColumn(\"day\", F.dayofmonth(F.col(timestampCol)))\n",
    "                            .withColumn(\"hour\", F.hour(F.col(timestampCol)))\n",
    "                            .withColumn(\"minute\", F.minute(F.col(timestampCol))) \n",
    "                            .withColumn(\"second\", F.second(F.col(timestampCol))) \n",
    "                            .withColumn(\"day_of_week\", F.dayofweek(F.col(timestampCol)))\n",
    "                            .withColumnRenamed(\"createdDate\", \"time_key\"))\n",
    "        return dimTime\n",
    "        \n",
    "    def createDimAuthor(self, authorName=\"author\", fullName=\"author_fullname\"):\n",
    "        dimAuthor=(self.dfSubmission.select(authorName, fullName).distinct()\n",
    "            .union(self.dfComment.select(authorName, fullName).distinct())\n",
    "            .distinct()\n",
    "            .withColumnRenamed(\"author_fullname\", \"author_key\"))\n",
    "        return dimAuthor\n",
    "\n",
    "    def createDimSubreddit(self, subredditId=\"subreddit_id\", subredditName=\"subreddit\", subredditNamePrefixed=\"subreddit_name_prefixed\", subredditType=\"subreddit_type\"):\n",
    "        dimSubreddit=(self.dfSubmission.select(\n",
    "                                        F.col(subredditId),\n",
    "                                        F.col(subredditName),\n",
    "                                        F.col(subredditNamePrefixed),\n",
    "                                        F.col(subredditType))\n",
    "                                    .withColumnRenamed(\"subreddit_id\", \"subreddit_key\")\n",
    "                                      .distinct())\n",
    "        return dimSubreddit\n",
    "\n",
    "    def createDimPostType(self, postType=\"post_hint\"):\n",
    "        dimPostType=(self.dfSubmission.select(F.col(postType)).distinct()\n",
    "            .withColumn(\"postType_key\", F.monotonically_increasing_id()))\n",
    "        return dimPostType\n",
    "    \n",
    "    def createDimSentiment(self):\n",
    "        sentiment_labels = [\"negative\", \"positive\", \"neutral\"]\n",
    "        data = [(label,) for label in sentiment_labels]\n",
    "        sentiment_schema = StructType([StructField(\"sentiment_label\", StringType(), True)])\n",
    "        \n",
    "        dimSentiment = (self.spark.createDataFrame(data, schema=sentiment_schema)\n",
    "                        .withColumn(\"sentiment_key\", F.monotonically_increasing_id()))\n",
    "        return dimSentiment\n",
    "\n",
    "    def createDimPost (self):\n",
    "        dfSub = self.dfSubmission\n",
    "\n",
    "        \n",
    "        dfCmt=self.dfComment\n",
    "\n",
    "        dfCmt = dfCmt.select(\"*\").where((F.col(\"deleted_by_mod\") == True) | (F.col(\"deleted_by_auto\") == True)).dropDuplicates([\"link_clean\"])\n",
    "\n",
    "        dimJoinRaw = (\n",
    "            dfSub.join(dfCmt, dfSub[\"id\"] == dfCmt[\"link_clean\"], \"left\")\n",
    "                  .select(\n",
    "                      dfSub[\"id\"],\n",
    "                      dfSub[\"title\"],\n",
    "                      dfSub[\"selftext\"],\n",
    "                      dfSub[\"permalink\"],\n",
    "                      dfSub[\"url\"],\n",
    "                      dfSub[\"domain\"],\n",
    "                      dfSub[\"edited\"],\n",
    "                      dfSub[\"locked\"],\n",
    "                      dfSub[\"spoiler\"],\n",
    "                      dfSub[\"over_18\"],\n",
    "                      dfSub[\"stickied\"],\n",
    "                      dfSub[\"is_original_content\"],\n",
    "                      dfSub[\"link_flair_text\"],\n",
    "                      dfSub[\"accDeleted\"],\n",
    "                      dfSub[\"isPostSpam\"],\n",
    "                      dfSub[\"matchPercent\"],\n",
    "                      dfSub[\"postDeleted\"],\n",
    "                      dfCmt[\"deleted_by_mod\"],\n",
    "                      dfCmt[\"deleted_by_auto\"]\n",
    "                  )\n",
    "        )                                                             \n",
    "        dimPost=(dimJoinRaw.withColumn(\"postStatus\",\n",
    "                                         F.when(F.col(\"accDeleted\")==True, F.lit(\"AuthorDeleted\"))\n",
    "                                          .when((F.col (\"postDeleted\")==True) & (F.col(\"accDeleted\")==False), F.lit(\"SelfDeleted\"))\n",
    "                                         .when(F.col(\"deleted_by_mod\")==True, F.lit(\"ModDeleted\"))\n",
    "                                         .when(F.col(\"deleted_by_auto\")==True, F.lit(\"AutoDeleted\"))\n",
    "                                            .otherwise(F.lit(\"active\")))\n",
    "                                .withColumnRenamed(\"selftext\", \"body\")\n",
    "                                .drop(\"deleted_by_mod\", \"deleted_by_auto\")\n",
    "                                        .withColumnRenamed(\"id\", \"post_key\"))\n",
    "        \n",
    "\n",
    "\n",
    "        return dimPost\n",
    "    \n",
    "    def createDimComment(self):\n",
    "        dfCmt=self.dfComment\n",
    "       \n",
    "        \n",
    "        dimComment=(dfCmt.select(F.col(\"id\"), F.col(\"body\"), F.col(\"permalink\")\n",
    "                                         , F.col(\"edited\"), F.col(\"is_submitter\")\n",
    "                                         , F.col(\"controversiality\"))\n",
    "                                        # , F.col(\"sentiment_label\"))\n",
    "                                .withColumnRenamed(\"id\", \"comment_key\"))\n",
    "\n",
    "        \n",
    "        return dimComment\n",
    "\n",
    "\n",
    "\n",
    "    def createFactPostActivity(self,dimTime, dimAuthor, dimSubreddit, dimPostType, dimSentiment):\n",
    "        \n",
    "        dfSub = (self.dfSubmission\n",
    "            .withColumn(\"text\", F.concat_ws(\" \", F.col(\"title\"), F.col(\"selftext\")))\n",
    "            .withColumn(\"sentiment_label\", sentimentUdf(F.col(\"text\")))\n",
    "        )\n",
    "\n",
    "        dfPostActi = (dfSub.select(F.col(\"id\"),  col(\"author_fullname\"), col(\"createdDate\"),\n",
    "                                                col(\"subreddit\"), col(\"post_hint\"),\n",
    "                                                col(\"score\"), col(\"num_comments\"),\n",
    "                                               col(\"total_awards_received\"),\n",
    "                                               col(\"sentiment_label\"),\n",
    "                                              col(\"subreddit_subscribers\")))\n",
    "        \n",
    "        factActi=dfPostActi.join(dimTime, dimTime.time_key==dfPostActi.createdDate,\n",
    "                                 \"left\").drop(\"createdDate\")\n",
    "        factActi=factActi.join(dimAuthor, dimAuthor.author_key==factActi.author_fullname,\n",
    "                               \"left\").drop(\"author_fullname\")\n",
    "        factActi=factActi.join(dimSubreddit, dimSubreddit.subreddit==factActi.subreddit, \"left\").drop(\"subreddit\")\n",
    "        factActi=factActi.join(dimPostType, dimPostType.post_hint==factActi.post_hint, \"left\").drop(\"post_hint\")\n",
    "\n",
    "        factActi=factActi.join(dimSentiment, dimSentiment.sentiment_label==factActi.sentiment_label, \n",
    "                              \"left\").drop(\"sentiment_label\")\n",
    "\n",
    "        factActi = (factActi.select(\n",
    "            F.col(\"id\"), col(\"time_key\"), col(\"sentiment_key\"), col(\"author_key\"),col(\"subreddit_key\"),col(\"postType_key\"),\n",
    "           col(\"score\"),col(\"num_comments\"),col(\"total_awards_received\"),col(\"subreddit_subscribers\"))\n",
    "            .withColumnRenamed(\"id\", \"post_key\")\n",
    "            .withColumn(\"id\", F.monotonically_increasing_id()))\n",
    "        return factActi\n",
    "        \n",
    "    def createFactCommentActivity(self, dimTime, dimAuthor, dimSubreddit, dimPost, dimSentiment):\n",
    "         \n",
    "        dfCmt = self.dfComment.withColumn(\n",
    "            \"sentiment_label\", sentimentUdf(F.col(\"body\"))\n",
    "        )\n",
    "\n",
    "        \n",
    "        dfCommentActi = (dfCmt.select(\n",
    "            F.col(\"id\"),col(\"author_fullname\"),col(\"createdDate\"),col(\"subreddit\"),\n",
    "            col(\"link_clean\"),\n",
    "            col(\"sentiment_label\"),\n",
    "            col(\"score\"),\n",
    "            col(\"controversiality\"),\n",
    "            col(\"total_awards_received\")))\n",
    "\n",
    "        factActi = dfCommentActi.join(dimTime,\n",
    "            dimTime.time_key == dfCommentActi.createdDate,\n",
    "            \"left\").drop(\"createdDate\")\n",
    "        factActi= factActi.join(dimAuthor,\n",
    "            dimAuthor.author_key == factActi.author_fullname,\n",
    "            \"left\").drop(\"author_fullname\")\n",
    "    \n",
    "        factActi =factActi.join(dimSubreddit,\n",
    "            dimSubreddit.subreddit == factActi.subreddit,\n",
    "            \"left\").drop(\"subreddit\")\n",
    "\n",
    "        factActi =factActi.join(dimPost,\n",
    "            dimPost.post_key == factActi.link_clean,\n",
    "            \"left\").drop(\"link_clean\")\n",
    "        \n",
    "        factActi = factActi.join(\n",
    "            dimSentiment,\n",
    "            dimSentiment.sentiment_label == factActi.sentiment_label,\n",
    "            \"left\").drop(\"sentiment_label\")\n",
    "        \n",
    "\n",
    "        factActi= (factActi.select(\n",
    "            F.col(\"id\"),\n",
    "            F.col(\"time_key\"),col(\"author_key\"), col(\"sentiment_key\"), col(\"subreddit_key\"),\n",
    "            col(\"post_key\"),\n",
    "            col(\"score\"),col(\"controversiality\"), col(\"total_awards_received\"))\n",
    "            .withColumnRenamed(\"id\", \"comment_key\")\n",
    "            .withColumn(\"id\", F.monotonically_increasing_id()))\n",
    "\n",
    "        return factActi\n"
   ]
  },
  {
   "cell_type": "markdown",
   "id": "c844882c-7507-4da8-92fa-19f76b3cb516",
   "metadata": {},
   "source": [
    "## 2. Spark Session"
   ]
  },
  {
   "cell_type": "code",
   "execution_count": 9,
   "id": "8179d72d-172a-4a6c-92a5-36f9a9181246",
   "metadata": {},
   "outputs": [
    {
     "name": "stderr",
     "output_type": "stream",
     "text": [
      "25/08/24 17:11:18 WARN Utils: Your hostname, Acer resolves to a loopback address: 127.0.1.1; using 192.168.1.9 instead (on interface wlp4s0)\n",
      "25/08/24 17:11:18 WARN Utils: Set SPARK_LOCAL_IP if you need to bind to another address\n",
      "Setting default log level to \"WARN\".\n",
      "To adjust logging level use sc.setLogLevel(newLevel). For SparkR, use setLogLevel(newLevel).\n",
      "25/08/24 17:11:19 WARN NativeCodeLoader: Unable to load native-hadoop library for your platform... using builtin-java classes where applicable\n"
     ]
    }
   ],
   "source": [
    "\n",
    "spark = SparkSession.builder.appName(\"Transformer\").getOrCreate()"
   ]
  },
  {
   "cell_type": "markdown",
   "id": "af6c8aa3-13d6-43eb-a6f2-dcb49e13b5b3",
   "metadata": {},
   "source": [
    "## 3. Transform Submission Silver"
   ]
  },
  {
   "cell_type": "code",
   "execution_count": 10,
   "id": "aa2cdc88-3988-4050-948e-045d4550881b",
   "metadata": {},
   "outputs": [],
   "source": [
    "pathSub = \"../data/RStest.jsonl\"\n",
    "rSubmissionBronzeSchema = StructType([\n",
    "    StructField(\"id\", StringType(), True),\n",
    "    StructField(\"title\", StringType(), True),\n",
    "    StructField(\"selftext\", StringType(), True),\n",
    "    StructField(\"url\", StringType(), True),\n",
    "    StructField(\"permalink\", StringType(), True),\n",
    "    StructField(\"domain\", StringType(), True),\n",
    "    StructField(\"post_hint\", StringType(), True),\n",
    "    StructField(\"author\", StringType(), True),\n",
    "    StructField(\"author_fullname\", StringType(), True),\n",
    "    StructField(\"created_utc\", LongType(), True),\n",
    "    StructField(\"subreddit\", StringType(), True),\n",
    "    StructField(\"subreddit_id\", StringType(), True),\n",
    "    StructField(\"subreddit_name_prefixed\", StringType(), True),\n",
    "    StructField(\"subreddit_type\", StringType(), True),\n",
    "    StructField(\"subreddit_subscribers\", IntegerType(), True),\n",
    "    StructField(\"score\", IntegerType(), True),\n",
    "    StructField(\"num_comments\", IntegerType(), True),\n",
    "    StructField(\"total_awards_received\", IntegerType(), True),\n",
    "    StructField(\"edited\", BooleanType(), True),\n",
    "    StructField(\"locked\", BooleanType(), True),\n",
    "    StructField(\"spoiler\", BooleanType(), True),\n",
    "    StructField(\"over_18\", BooleanType(), True),\n",
    "    StructField(\"stickied\", BooleanType(), True),   \n",
    "    StructField(\"retrieved_on\", LongType(), True),\n",
    "    StructField(\"is_original_content\", BooleanType(), True),\n",
    "    StructField(\"link_flair_text\", StringType(), True)\n",
    "])\n"
   ]
  },
  {
   "cell_type": "code",
   "execution_count": 11,
   "id": "5a5baf75-4229-4e05-8425-be3d537c29fd",
   "metadata": {},
   "outputs": [],
   "source": [
    "submission = SubmissionTransformer(spark)"
   ]
  },
  {
   "cell_type": "code",
   "execution_count": 12,
   "id": "6d4718c4-2c4f-4242-b3d0-d7251088a5c5",
   "metadata": {},
   "outputs": [],
   "source": [
    "dfSub = submission.readData(pathSub, schema=rSubmissionBronzeSchema)"
   ]
  },
  {
   "cell_type": "code",
   "execution_count": 13,
   "id": "5cab8eb7-413d-4549-bc33-5f780103ef1f",
   "metadata": {},
   "outputs": [
    {
     "data": {
      "text/plain": [
       "(26, 5)"
      ]
     },
     "execution_count": 13,
     "metadata": {},
     "output_type": "execute_result"
    }
   ],
   "source": [
    "submission.showShape(dfSub)"
   ]
  },
  {
   "cell_type": "code",
   "execution_count": 14,
   "id": "ad6578c4-b49c-4403-a8fe-52d66951c409",
   "metadata": {},
   "outputs": [],
   "source": [
    "dfSub=submission.transform(dfSub)"
   ]
  },
  {
   "cell_type": "code",
   "execution_count": 15,
   "id": "a74416cb-8198-4ad5-8290-f4a106a73172",
   "metadata": {},
   "outputs": [
    {
     "data": {
      "text/plain": [
       "(31, 5)"
      ]
     },
     "execution_count": 15,
     "metadata": {},
     "output_type": "execute_result"
    }
   ],
   "source": [
    "submission.showShape(dfSub)"
   ]
  },
  {
   "cell_type": "code",
   "execution_count": 16,
   "id": "d4e7daa5-9f3a-4138-a27c-3596b0dc6607",
   "metadata": {},
   "outputs": [
    {
     "name": "stderr",
     "output_type": "stream",
     "text": [
      "25/08/24 17:11:24 WARN SparkStringUtils: Truncated the string representation of a plan since it was too large. This behavior can be adjusted by setting 'spark.sql.debug.maxToStringFields'.\n"
     ]
    },
    {
     "name": "stdout",
     "output_type": "stream",
     "text": [
      "+-------+--------------------+--------------------+--------------------+--------------------+--------------------+---------+---------------+---------------+-----------+-----------+------------+-----------------------+--------------+---------------------+-----+------------+---------------------+------+------+-------+-------+--------+------------+-------------------+---------------+-------------------+----------+-----------+------------------+----------+\n",
      "|     id|               title|            selftext|                 url|           permalink|              domain|post_hint|         author|author_fullname|created_utc|  subreddit|subreddit_id|subreddit_name_prefixed|subreddit_type|subreddit_subscribers|score|num_comments|total_awards_received|edited|locked|spoiler|over_18|stickied|retrieved_on|is_original_content|link_flair_text|        createdDate|accDeleted|postDeleted|      matchPercent|isPostSpam|\n",
      "+-------+--------------------+--------------------+--------------------+--------------------+--------------------+---------+---------------+---------------+-----------+-----------+------------+-----------------------+--------------+---------------------+-----+------------+---------------------+------+------+-------+-------+--------+------------+-------------------+---------------+-------------------+----------+-----------+------------------+----------+\n",
      "|1l0bhr6|            Someone?|           [removed]|                    |/r/technology/com...|                    |     NULL|      [deleted]|           NULL| 1748736445| technology|    t5_2qh16|           r/technology|        public|             19349025|    1|           0|                    0| false| false|  false|  false|   false|  1748736462|              false|       Business|2025-06-01 07:07:25|      true|       true|               0.0|     false|\n",
      "|1l0buai|AI Hasn’t Taken Y...|                    |https://www.psych...|/r/Futurology/com...| psychologytoday.com|     link|       Gari_305|    t2_65fa26pr| 1748737533| Futurology|    t5_2t7no|           r/Futurology|        public|             21575272|    0|           9|                    0| false| false|  false|  false|   false|  1748737548|              false|             AI|2025-06-01 07:25:33|     false|      false|57.142857142857146|      true|\n",
      "|1l0bvir|We Should Not All...|                    |https://www.aipol...|/r/Futurology/com...|aipolicybulletin.org|     NULL|      katxwoods|    t2_6h6wd5oz| 1748737638| Futurology|    t5_2t7no|           r/Futurology|        public|             21575272|  675|          45|                    0| false| false|  false|  false|   false|  1748737657|              false|             AI|2025-06-01 07:27:18|     false|      false| 94.11764705882354|      true|\n",
      "|1l0bvr5|        Amish and AI|The Amish in the ...|https://www.reddi...|/r/Futurology/com...|     self.Futurology|     NULL|  Businessmarck|    t2_8mw6j6fe| 1748737661| Futurology|    t5_2t7no|           r/Futurology|        public|             21575271|    0|          18|                    0| false| false|  false|  false|   false|  1748737675|              false|             AI|2025-06-01 07:27:41|     false|      false|             100.0|     false|\n",
      "|1l0bxi9|Can You People ad...|                    |https://github.co...|/r/programming/co...|          github.com|     link|Present_Fill412|   t2_p5klht0fl| 1748737813|programming|     t5_2fwo|          r/programming|        public|              6776435|    1|           0|                    0| false| false|  false|  false|   false|  1748737832|              false|           NULL|2025-06-01 07:30:13|     false|      false| 22.22222222222222|     false|\n",
      "+-------+--------------------+--------------------+--------------------+--------------------+--------------------+---------+---------------+---------------+-----------+-----------+------------+-----------------------+--------------+---------------------+-----+------------+---------------------+------+------+-------+-------+--------+------------+-------------------+---------------+-------------------+----------+-----------+------------------+----------+\n",
      "\n"
     ]
    }
   ],
   "source": [
    "dfSub.show()"
   ]
  },
  {
   "cell_type": "markdown",
   "id": "7fe82fce-b70d-415d-9f96-372897e31599",
   "metadata": {},
   "source": [
    "## 3. Transform Comment Silver"
   ]
  },
  {
   "cell_type": "code",
   "execution_count": 17,
   "id": "b3b90468-d0eb-4513-a13c-7d37062a793c",
   "metadata": {},
   "outputs": [],
   "source": [
    "comment=CommentTransformer(spark)"
   ]
  },
  {
   "cell_type": "code",
   "execution_count": 18,
   "id": "3cf7f5f3-1018-418b-bd95-4d2bd5784e89",
   "metadata": {},
   "outputs": [],
   "source": [
    "pathCmt = \"../data/RCtest.jsonl\"\n",
    "\n",
    "rCommentBronzeSchema = StructType([\n",
    "    StructField(\"id\", StringType(), True),\n",
    "    StructField(\"body\", StringType(), True),\n",
    "    StructField(\"created_utc\", LongType(), True),\n",
    "    StructField(\"edited\", BooleanType(), True),\n",
    "    StructField(\"score\", IntegerType(), True),\n",
    "    StructField(\"author\", StringType(), True),\n",
    "    StructField(\"author_fullname\", StringType(), True),\n",
    "    StructField(\"author_created_utc\", LongType(), True),\n",
    "    StructField(\"parent_id\", StringType(), True),\n",
    "    StructField(\"link_id\", StringType(), True),\n",
    "    StructField(\"is_submitter\", BooleanType(), True),\n",
    "    StructField(\"permalink\", StringType(), True),\n",
    "    StructField(\"subreddit\", StringType(), True),\n",
    "    StructField(\"subreddit_id\", StringType(), True),\n",
    "    StructField(\"subreddit_name_prefixed\", StringType(), True),\n",
    "    StructField(\"subreddit_type\", StringType(), True),\n",
    "    StructField(\"total_awards_received\", IntegerType(), True),\n",
    "    StructField(\"controversiality\", IntegerType(), True),\n",
    "    StructField(\"retrieved_on\", LongType(), True),\n",
    "    StructField(\"stickied\", BooleanType(), True)\n",
    "])\n",
    "\n"
   ]
  },
  {
   "cell_type": "code",
   "execution_count": 19,
   "id": "005cadc9-8874-41d1-a31c-033dc3f2c8d7",
   "metadata": {},
   "outputs": [],
   "source": [
    "dfCmt=comment.readData(pathCmt, schema=rCommentBronzeSchema)"
   ]
  },
  {
   "cell_type": "code",
   "execution_count": 20,
   "id": "a13a149e-f36b-43e3-b02f-43839ae3a9c8",
   "metadata": {},
   "outputs": [
    {
     "data": {
      "text/plain": [
       "(20, 10)"
      ]
     },
     "execution_count": 20,
     "metadata": {},
     "output_type": "execute_result"
    }
   ],
   "source": [
    "comment.showShape(dfCmt)"
   ]
  },
  {
   "cell_type": "code",
   "execution_count": 21,
   "id": "3f78e3f7-82c3-4626-b9b8-7944b5d2e778",
   "metadata": {},
   "outputs": [],
   "source": [
    "dfCmt=comment.transform(dfCmt)"
   ]
  },
  {
   "cell_type": "code",
   "execution_count": 22,
   "id": "6bcba211-6321-4a64-a08c-e5d0ee2f599b",
   "metadata": {},
   "outputs": [
    {
     "data": {
      "text/plain": [
       "(27, 10)"
      ]
     },
     "execution_count": 22,
     "metadata": {},
     "output_type": "execute_result"
    }
   ],
   "source": [
    "comment.showShape(dfCmt)"
   ]
  },
  {
   "cell_type": "code",
   "execution_count": 84,
   "id": "c1895bce-e6e4-4d3a-80fc-d988f8617e02",
   "metadata": {},
   "outputs": [
    {
     "name": "stdout",
     "output_type": "stream",
     "text": [
      "+-------+--------------------+-----------+------+-----+-----------+---------------+------------------+----------+----------+------------+--------------------+-----------+------------+-----------------------+--------------+---------------------+----------------+------------+--------+-------------------+----------+----------+------------+----------+--------------+---------------+\n",
      "|     id|                body|created_utc|edited|score|     author|author_fullname|author_created_utc| parent_id|   link_id|is_submitter|           permalink|  subreddit|subreddit_id|subreddit_name_prefixed|subreddit_type|total_awards_received|controversiality|retrieved_on|stickied|        createdDate|accDeleted|cmtDeleted|parent_clean|link_clean|deleted_by_mod|deleted_by_auto|\n",
      "+-------+--------------------+-----------+------+-----+-----------+---------------+------------------+----------+----------+------------+--------------------+-----------+------------+-----------------------+--------------+---------------------+----------------+------------+--------+-------------------+----------+----------+------------+----------+--------------+---------------+\n",
      "|mvc2u2o|From the article\\...| 1748737579| false|    0|   Gari_305|    t2_65fa26pr|              NULL|t3_1l0buai|t3_1l0buai|        true|/r/Futurology/com...| Futurology|    t5_2t7no|           r/Futurology|        public|                    0|               0|  1748737598|   false|2025-06-01 07:26:19|     false|     false|     1l0buai|   1l0buai|         false|          false|\n",
      "|mvc30mg|Submission statem...| 1748737649| false|    2|  katxwoods|    t2_6h6wd5oz|              NULL|t3_1l0bvir|t3_1l0bvir|        true|/r/Futurology/com...| Futurology|    t5_2t7no|           r/Futurology|        public|                    0|               1|  1748737664|   false|2025-06-01 07:27:29|     false|     false|     1l0bvir|   1l0bvir|         false|          false|\n",
      "|mvc3ikx|           [removed]| 1748737838| false|    1|  [deleted]|           NULL|              NULL|t3_1l0bvir|t3_1l0bvir|       false|/r/Futurology/com...| Futurology|    t5_2t7no|           r/Futurology|        public|                    0|               0|  1748737856|   false|2025-06-01 07:30:38|      true|      true|     1l0bvir|   1l0bvir|         false|          false|\n",
      "|mvc3lwv|           [removed]| 1748737873| false|    1|  [deleted]|           NULL|              NULL|t3_1l0bvr5|t3_1l0bvr5|       false|/r/Futurology/com...| Futurology|    t5_2t7no|           r/Futurology|        public|                    0|               0|  1748737891|   false|2025-06-01 07:31:13|      true|      true|     1l0bvr5|   1l0bvr5|         false|          false|\n",
      "|mvc3uix|           [removed]| 1748737965| false|    1|  [deleted]|           NULL|              NULL|t3_1l0bz34|t3_1l0bz34|       false|/r/programming/co...|programming|     t5_2fwo|          r/programming|        public|                    0|               0|  1748737982|   false|2025-06-01 07:32:45|      true|      true|     1l0bz34|   1l0bz34|         false|          false|\n",
      "|mvc4ct7|We also shouldn’t...| 1748738160| false|    3|   Black_RL|       t2_c0v9b|              NULL|t3_1l0bvir|t3_1l0bvir|       false|/r/Futurology/com...| Futurology|    t5_2t7no|           r/Futurology|        public|                    0|               1|  1748738173|   false|2025-06-01 07:36:00|     false|     false|     1l0bvir|   1l0bvir|         false|          false|\n",
      "|mvc4f29|You have to be co...| 1748738184| false|   55| S7ageNinja|    t2_245empqs|              NULL|t3_1l0bvir|t3_1l0bvir|       false|/r/Futurology/com...| Futurology|    t5_2t7no|           r/Futurology|        public|                    0|               0|  1748738205|   false|2025-06-01 07:36:24|     false|     false|     1l0bvir|   1l0bvir|         false|          false|\n",
      "|mvc54or|I’d rather debate...| 1748738459| false|    4|Lord_Genius|    t2_8ea9dgct|              NULL|t3_1l0bvr5|t3_1l0bvr5|       false|/r/Futurology/com...| Futurology|    t5_2t7no|           r/Futurology|        public|                    0|               1|  1748738475|   false|2025-06-01 07:40:59|     false|     false|     1l0bvr5|   1l0bvr5|         false|          false|\n",
      "|mvc55pp|Also, every robot...| 1748738470| false|    4|       dE3L|       t2_4c4pg|              NULL|t3_1l0bvir|t3_1l0bvir|       false|/r/Futurology/com...| Futurology|    t5_2t7no|           r/Futurology|        public|                    0|               0|  1748738489|   false|2025-06-01 07:41:10|     false|     false|     1l0bvir|   1l0bvir|         false|          false|\n",
      "|mvc5w76|From the article\\...| 1748738753| false|    2|   Gari_305|    t2_65fa26pr|              NULL|t3_1l0c7lv|t3_1l0c7lv|        true|/r/Futurology/com...| Futurology|    t5_2t7no|           r/Futurology|        public|                    0|               0|  1748738768|   false|2025-06-01 07:45:53|     false|     false|     1l0c7lv|   1l0c7lv|         false|          false|\n",
      "+-------+--------------------+-----------+------+-----+-----------+---------------+------------------+----------+----------+------------+--------------------+-----------+------------+-----------------------+--------------+---------------------+----------------+------------+--------+-------------------+----------+----------+------------+----------+--------------+---------------+\n",
      "\n"
     ]
    }
   ],
   "source": [
    "dfCmt.show()"
   ]
  },
  {
   "cell_type": "markdown",
   "id": "68e32548-d477-4d63-8964-a5221c4d5921",
   "metadata": {},
   "source": [
    "## 4. Gold Transform DimTime DimAuthor test "
   ]
  },
  {
   "cell_type": "code",
   "execution_count": 68,
   "id": "5b85a19c-1a87-4a09-a1c2-25e125adeb1c",
   "metadata": {},
   "outputs": [],
   "source": [
    "gold=GoldTransformer(spark, dfSub, dfCmt)\n"
   ]
  },
  {
   "cell_type": "code",
   "execution_count": 69,
   "id": "24a91d2a-eec1-4aa5-9ed9-ca96f49d8889",
   "metadata": {},
   "outputs": [
    {
     "name": "stdout",
     "output_type": "stream",
     "text": [
      "+-------+--------------------+--------------------+--------------------+--------------------+--------------------+---------+---------------+---------------+-----------+-----------+------------+-----------------------+--------------+---------------------+-----+------------+---------------------+------+------+-------+-------+--------+------------+-------------------+---------------+-------------------+----------+-----------+------------------+----------+\n",
      "|     id|               title|            selftext|                 url|           permalink|              domain|post_hint|         author|author_fullname|created_utc|  subreddit|subreddit_id|subreddit_name_prefixed|subreddit_type|subreddit_subscribers|score|num_comments|total_awards_received|edited|locked|spoiler|over_18|stickied|retrieved_on|is_original_content|link_flair_text|        createdDate|accDeleted|postDeleted|      matchPercent|isPostSpam|\n",
      "+-------+--------------------+--------------------+--------------------+--------------------+--------------------+---------+---------------+---------------+-----------+-----------+------------+-----------------------+--------------+---------------------+-----+------------+---------------------+------+------+-------+-------+--------+------------+-------------------+---------------+-------------------+----------+-----------+------------------+----------+\n",
      "|1l0bhr6|            Someone?|           [removed]|                    |/r/technology/com...|                    |     NULL|      [deleted]|           NULL| 1748736445| technology|    t5_2qh16|           r/technology|        public|             19349025|    1|           0|                    0| false| false|  false|  false|   false|  1748736462|              false|       Business|2025-06-01 07:07:25|      true|       true|               0.0|     false|\n",
      "|1l0buai|AI Hasn’t Taken Y...|                    |https://www.psych...|/r/Futurology/com...| psychologytoday.com|     link|       Gari_305|    t2_65fa26pr| 1748737533| Futurology|    t5_2t7no|           r/Futurology|        public|             21575272|    0|           9|                    0| false| false|  false|  false|   false|  1748737548|              false|             AI|2025-06-01 07:25:33|     false|      false|57.142857142857146|      true|\n",
      "|1l0bvir|We Should Not All...|                    |https://www.aipol...|/r/Futurology/com...|aipolicybulletin.org|     NULL|      katxwoods|    t2_6h6wd5oz| 1748737638| Futurology|    t5_2t7no|           r/Futurology|        public|             21575272|  675|          45|                    0| false| false|  false|  false|   false|  1748737657|              false|             AI|2025-06-01 07:27:18|     false|      false| 94.11764705882354|      true|\n",
      "|1l0bvr5|        Amish and AI|The Amish in the ...|https://www.reddi...|/r/Futurology/com...|     self.Futurology|     NULL|  Businessmarck|    t2_8mw6j6fe| 1748737661| Futurology|    t5_2t7no|           r/Futurology|        public|             21575271|    0|          18|                    0| false| false|  false|  false|   false|  1748737675|              false|             AI|2025-06-01 07:27:41|     false|      false|             100.0|     false|\n",
      "|1l0bxi9|Can You People ad...|                    |https://github.co...|/r/programming/co...|          github.com|     link|Present_Fill412|   t2_p5klht0fl| 1748737813|programming|     t5_2fwo|          r/programming|        public|              6776435|    1|           0|                    0| false| false|  false|  false|   false|  1748737832|              false|           NULL|2025-06-01 07:30:13|     false|      false| 22.22222222222222|     false|\n",
      "+-------+--------------------+--------------------+--------------------+--------------------+--------------------+---------+---------------+---------------+-----------+-----------+------------+-----------------------+--------------+---------------------+-----+------------+---------------------+------+------+-------+-------+--------+------------+-------------------+---------------+-------------------+----------+-----------+------------------+----------+\n",
      "\n"
     ]
    }
   ],
   "source": [
    "dfSub.show()"
   ]
  },
  {
   "cell_type": "code",
   "execution_count": 83,
   "id": "31476b3e-beed-41f5-a391-82a00e0f91d2",
   "metadata": {},
   "outputs": [
    {
     "name": "stdout",
     "output_type": "stream",
     "text": [
      "+-------+--------------------+-----------+------+-----+-----------+---------------+------------------+----------+----------+------------+--------------------+-----------+------------+-----------------------+--------------+---------------------+----------------+------------+--------+-------------------+----------+----------+------------+----------+--------------+---------------+\n",
      "|     id|                body|created_utc|edited|score|     author|author_fullname|author_created_utc| parent_id|   link_id|is_submitter|           permalink|  subreddit|subreddit_id|subreddit_name_prefixed|subreddit_type|total_awards_received|controversiality|retrieved_on|stickied|        createdDate|accDeleted|cmtDeleted|parent_clean|link_clean|deleted_by_mod|deleted_by_auto|\n",
      "+-------+--------------------+-----------+------+-----+-----------+---------------+------------------+----------+----------+------------+--------------------+-----------+------------+-----------------------+--------------+---------------------+----------------+------------+--------+-------------------+----------+----------+------------+----------+--------------+---------------+\n",
      "|mvc2u2o|From the article\\...| 1748737579| false|    0|   Gari_305|    t2_65fa26pr|              NULL|t3_1l0buai|t3_1l0buai|        true|/r/Futurology/com...| Futurology|    t5_2t7no|           r/Futurology|        public|                    0|               0|  1748737598|   false|2025-06-01 07:26:19|     false|     false|     1l0buai|   1l0buai|         false|          false|\n",
      "|mvc30mg|Submission statem...| 1748737649| false|    2|  katxwoods|    t2_6h6wd5oz|              NULL|t3_1l0bvir|t3_1l0bvir|        true|/r/Futurology/com...| Futurology|    t5_2t7no|           r/Futurology|        public|                    0|               1|  1748737664|   false|2025-06-01 07:27:29|     false|     false|     1l0bvir|   1l0bvir|         false|          false|\n",
      "|mvc3ikx|           [removed]| 1748737838| false|    1|  [deleted]|           NULL|              NULL|t3_1l0bvir|t3_1l0bvir|       false|/r/Futurology/com...| Futurology|    t5_2t7no|           r/Futurology|        public|                    0|               0|  1748737856|   false|2025-06-01 07:30:38|      true|      true|     1l0bvir|   1l0bvir|         false|          false|\n",
      "|mvc3lwv|           [removed]| 1748737873| false|    1|  [deleted]|           NULL|              NULL|t3_1l0bvr5|t3_1l0bvr5|       false|/r/Futurology/com...| Futurology|    t5_2t7no|           r/Futurology|        public|                    0|               0|  1748737891|   false|2025-06-01 07:31:13|      true|      true|     1l0bvr5|   1l0bvr5|         false|          false|\n",
      "|mvc3uix|           [removed]| 1748737965| false|    1|  [deleted]|           NULL|              NULL|t3_1l0bz34|t3_1l0bz34|       false|/r/programming/co...|programming|     t5_2fwo|          r/programming|        public|                    0|               0|  1748737982|   false|2025-06-01 07:32:45|      true|      true|     1l0bz34|   1l0bz34|         false|          false|\n",
      "|mvc4ct7|We also shouldn’t...| 1748738160| false|    3|   Black_RL|       t2_c0v9b|              NULL|t3_1l0bvir|t3_1l0bvir|       false|/r/Futurology/com...| Futurology|    t5_2t7no|           r/Futurology|        public|                    0|               1|  1748738173|   false|2025-06-01 07:36:00|     false|     false|     1l0bvir|   1l0bvir|         false|          false|\n",
      "|mvc4f29|You have to be co...| 1748738184| false|   55| S7ageNinja|    t2_245empqs|              NULL|t3_1l0bvir|t3_1l0bvir|       false|/r/Futurology/com...| Futurology|    t5_2t7no|           r/Futurology|        public|                    0|               0|  1748738205|   false|2025-06-01 07:36:24|     false|     false|     1l0bvir|   1l0bvir|         false|          false|\n",
      "|mvc54or|I’d rather debate...| 1748738459| false|    4|Lord_Genius|    t2_8ea9dgct|              NULL|t3_1l0bvr5|t3_1l0bvr5|       false|/r/Futurology/com...| Futurology|    t5_2t7no|           r/Futurology|        public|                    0|               1|  1748738475|   false|2025-06-01 07:40:59|     false|     false|     1l0bvr5|   1l0bvr5|         false|          false|\n",
      "|mvc55pp|Also, every robot...| 1748738470| false|    4|       dE3L|       t2_4c4pg|              NULL|t3_1l0bvir|t3_1l0bvir|       false|/r/Futurology/com...| Futurology|    t5_2t7no|           r/Futurology|        public|                    0|               0|  1748738489|   false|2025-06-01 07:41:10|     false|     false|     1l0bvir|   1l0bvir|         false|          false|\n",
      "|mvc5w76|From the article\\...| 1748738753| false|    2|   Gari_305|    t2_65fa26pr|              NULL|t3_1l0c7lv|t3_1l0c7lv|        true|/r/Futurology/com...| Futurology|    t5_2t7no|           r/Futurology|        public|                    0|               0|  1748738768|   false|2025-06-01 07:45:53|     false|     false|     1l0c7lv|   1l0c7lv|         false|          false|\n",
      "+-------+--------------------+-----------+------+-----+-----------+---------------+------------------+----------+----------+------------+--------------------+-----------+------------+-----------------------+--------------+---------------------+----------------+------------+--------+-------------------+----------+----------+------------+----------+--------------+---------------+\n",
      "\n"
     ]
    }
   ],
   "source": [
    "dfCmt.show()"
   ]
  },
  {
   "cell_type": "code",
   "execution_count": 71,
   "id": "9aada57e-d1d8-4b7b-9600-9b056ca852dc",
   "metadata": {},
   "outputs": [],
   "source": [
    "\n",
    "dimTime = gold.createDimTime()\n",
    "dimAuthor = gold.createDimAuthor()\n",
    "dimSentiment = gold.createDimSentiment()\n",
    "dimSubreddit = gold.createDimSubreddit()\n",
    "dimPostType = gold.createDimPostType()\n",
    "dimPost = gold.createDimPost()\n",
    "dimComment = gold.createDimComment()\n"
   ]
  },
  {
   "cell_type": "code",
   "execution_count": 72,
   "id": "80f086c7-7234-42fe-ac3b-f68702419717",
   "metadata": {},
   "outputs": [
    {
     "name": "stdout",
     "output_type": "stream",
     "text": [
      "+-------------------+----+-----+---+----+------+------+-----------+\n",
      "|           time_key|year|month|day|hour|minute|second|day_of_week|\n",
      "+-------------------+----+-----+---+----+------+------+-----------+\n",
      "|2025-06-01 07:07:25|2025|    6|  1|   7|     7|    25|          1|\n",
      "|2025-06-01 07:25:33|2025|    6|  1|   7|    25|    33|          1|\n",
      "|2025-06-01 07:27:41|2025|    6|  1|   7|    27|    41|          1|\n",
      "|2025-06-01 07:27:18|2025|    6|  1|   7|    27|    18|          1|\n",
      "|2025-06-01 07:30:13|2025|    6|  1|   7|    30|    13|          1|\n",
      "|2025-06-01 07:41:10|2025|    6|  1|   7|    41|    10|          1|\n",
      "|2025-06-01 07:31:13|2025|    6|  1|   7|    31|    13|          1|\n",
      "|2025-06-01 07:27:29|2025|    6|  1|   7|    27|    29|          1|\n",
      "|2025-06-01 07:45:53|2025|    6|  1|   7|    45|    53|          1|\n",
      "|2025-06-01 07:36:00|2025|    6|  1|   7|    36|     0|          1|\n",
      "|2025-06-01 07:40:59|2025|    6|  1|   7|    40|    59|          1|\n",
      "|2025-06-01 07:26:19|2025|    6|  1|   7|    26|    19|          1|\n",
      "|2025-06-01 07:30:38|2025|    6|  1|   7|    30|    38|          1|\n",
      "|2025-06-01 07:36:24|2025|    6|  1|   7|    36|    24|          1|\n",
      "|2025-06-01 07:32:45|2025|    6|  1|   7|    32|    45|          1|\n",
      "+-------------------+----+-----+---+----+------+------+-----------+\n",
      "\n"
     ]
    }
   ],
   "source": [
    "dimTime.show()"
   ]
  },
  {
   "cell_type": "code",
   "execution_count": 73,
   "id": "8945d14c-e125-459c-a175-35f7554fe1ae",
   "metadata": {},
   "outputs": [
    {
     "name": "stdout",
     "output_type": "stream",
     "text": [
      "+---------------+------------+\n",
      "|         author|  author_key|\n",
      "+---------------+------------+\n",
      "|       Gari_305| t2_65fa26pr|\n",
      "|Present_Fill412|t2_p5klht0fl|\n",
      "|      katxwoods| t2_6h6wd5oz|\n",
      "|  Businessmarck| t2_8mw6j6fe|\n",
      "|       Black_RL|    t2_c0v9b|\n",
      "|           dE3L|    t2_4c4pg|\n",
      "|    Lord_Genius| t2_8ea9dgct|\n",
      "|     S7ageNinja| t2_245empqs|\n",
      "|      [deleted]|        NULL|\n",
      "+---------------+------------+\n",
      "\n"
     ]
    }
   ],
   "source": [
    "dimAuthor.show()"
   ]
  },
  {
   "cell_type": "code",
   "execution_count": 74,
   "id": "c63266b2-eb25-43f2-a4eb-f9138a18f138",
   "metadata": {},
   "outputs": [
    {
     "name": "stdout",
     "output_type": "stream",
     "text": [
      "+---------------+-------------+\n",
      "|sentiment_label|sentiment_key|\n",
      "+---------------+-------------+\n",
      "|       negative|  25769803776|\n",
      "|       positive|  60129542144|\n",
      "|        neutral|  94489280512|\n",
      "+---------------+-------------+\n",
      "\n"
     ]
    }
   ],
   "source": [
    "dimSentiment.show()"
   ]
  },
  {
   "cell_type": "code",
   "execution_count": 75,
   "id": "9ffe8abc-d219-40ea-bfaa-acba3f016366",
   "metadata": {},
   "outputs": [
    {
     "name": "stdout",
     "output_type": "stream",
     "text": [
      "+---------+------------+\n",
      "|post_hint|postType_key|\n",
      "+---------+------------+\n",
      "|     link|           0|\n",
      "|     NULL|           1|\n",
      "+---------+------------+\n",
      "\n"
     ]
    }
   ],
   "source": [
    "dimPostType.show()"
   ]
  },
  {
   "cell_type": "code",
   "execution_count": 76,
   "id": "be803a54-09e0-4aeb-9620-4f13a4e3337e",
   "metadata": {},
   "outputs": [
    {
     "name": "stdout",
     "output_type": "stream",
     "text": [
      "+-------------+-----------+-----------------------+--------------+\n",
      "|subreddit_key|  subreddit|subreddit_name_prefixed|subreddit_type|\n",
      "+-------------+-----------+-----------------------+--------------+\n",
      "|     t5_2t7no| Futurology|           r/Futurology|        public|\n",
      "|     t5_2qh16| technology|           r/technology|        public|\n",
      "|      t5_2fwo|programming|          r/programming|        public|\n",
      "+-------------+-----------+-----------------------+--------------+\n",
      "\n"
     ]
    }
   ],
   "source": [
    "dimSubreddit.show()"
   ]
  },
  {
   "cell_type": "code",
   "execution_count": 77,
   "id": "cc257053-a8c3-4c4c-91b0-01ba4fbc14cf",
   "metadata": {},
   "outputs": [
    {
     "name": "stdout",
     "output_type": "stream",
     "text": [
      "+-----------+--------------------+--------------------+------+------------+----------------+\n",
      "|comment_key|                body|           permalink|edited|is_submitter|controversiality|\n",
      "+-----------+--------------------+--------------------+------+------------+----------------+\n",
      "|    mvc2u2o|From the article\\...|/r/Futurology/com...| false|        true|               0|\n",
      "|    mvc30mg|Submission statem...|/r/Futurology/com...| false|        true|               1|\n",
      "|    mvc3ikx|           [removed]|/r/Futurology/com...| false|       false|               0|\n",
      "|    mvc3lwv|           [removed]|/r/Futurology/com...| false|       false|               0|\n",
      "|    mvc3uix|           [removed]|/r/programming/co...| false|       false|               0|\n",
      "|    mvc4ct7|We also shouldn’t...|/r/Futurology/com...| false|       false|               1|\n",
      "|    mvc4f29|You have to be co...|/r/Futurology/com...| false|       false|               0|\n",
      "|    mvc54or|I’d rather debate...|/r/Futurology/com...| false|       false|               1|\n",
      "|    mvc55pp|Also, every robot...|/r/Futurology/com...| false|       false|               0|\n",
      "|    mvc5w76|From the article\\...|/r/Futurology/com...| false|        true|               0|\n",
      "+-----------+--------------------+--------------------+------+------------+----------------+\n",
      "\n"
     ]
    }
   ],
   "source": [
    "dimComment.show()"
   ]
  },
  {
   "cell_type": "code",
   "execution_count": 78,
   "id": "5ff4e1e0-22fc-40b6-bb75-06473b825878",
   "metadata": {},
   "outputs": [
    {
     "name": "stdout",
     "output_type": "stream",
     "text": [
      "+--------+--------------------+--------------------+--------------------+--------------------+--------------------+------+------+-------+-------+--------+-------------------+---------------+----------+----------+------------------+-----------+-------------+\n",
      "|post_key|               title|                body|           permalink|                 url|              domain|edited|locked|spoiler|over_18|stickied|is_original_content|link_flair_text|accDeleted|isPostSpam|      matchPercent|postDeleted|   postStatus|\n",
      "+--------+--------------------+--------------------+--------------------+--------------------+--------------------+------+------+-------+-------+--------+-------------------+---------------+----------+----------+------------------+-----------+-------------+\n",
      "| 1l0bhr6|            Someone?|           [removed]|/r/technology/com...|                    |                    | false| false|  false|  false|   false|              false|       Business|      true|     false|               0.0|       true|AuthorDeleted|\n",
      "| 1l0buai|AI Hasn’t Taken Y...|                    |/r/Futurology/com...|https://www.psych...| psychologytoday.com| false| false|  false|  false|   false|              false|             AI|     false|      true|57.142857142857146|      false|       active|\n",
      "| 1l0bvir|We Should Not All...|                    |/r/Futurology/com...|https://www.aipol...|aipolicybulletin.org| false| false|  false|  false|   false|              false|             AI|     false|      true| 94.11764705882354|      false|       active|\n",
      "| 1l0bvr5|        Amish and AI|The Amish in the ...|/r/Futurology/com...|https://www.reddi...|     self.Futurology| false| false|  false|  false|   false|              false|             AI|     false|     false|             100.0|      false|       active|\n",
      "| 1l0bxi9|Can You People ad...|                    |/r/programming/co...|https://github.co...|          github.com| false| false|  false|  false|   false|              false|           NULL|     false|     false| 22.22222222222222|      false|       active|\n",
      "+--------+--------------------+--------------------+--------------------+--------------------+--------------------+------+------+-------+-------+--------+-------------------+---------------+----------+----------+------------------+-----------+-------------+\n",
      "\n"
     ]
    }
   ],
   "source": [
    "dimPost.show()"
   ]
  },
  {
   "cell_type": "code",
   "execution_count": 79,
   "id": "6c01b58d-2126-47f0-a8c8-216c818c5d5c",
   "metadata": {},
   "outputs": [],
   "source": [
    "\n",
    "factPostActi = gold.createFactPostActivity(dimTime, dimAuthor, dimSubreddit, dimPostType, dimSentiment)\n",
    "factCmtActi = gold. createFactCommentActivity(dimTime, dimAuthor, dimSubreddit, dimPost, dimSentiment)"
   ]
  },
  {
   "cell_type": "code",
   "execution_count": 80,
   "id": "c382bb5b-d99d-4a75-b601-b0df7195086e",
   "metadata": {},
   "outputs": [
    {
     "name": "stderr",
     "output_type": "stream",
     "text": [
      "Loaded as API: https://dataguychill-sentiment.hf.space ✔            (0 + 1) / 1]\n",
      "Loaded as API: https://dataguychill-sentiment.hf.space ✔\n",
      "Loaded as API: https://dataguychill-sentiment.hf.space ✔\n",
      "Loaded as API: https://dataguychill-sentiment.hf.space ✔\n",
      "Loaded as API: https://dataguychill-sentiment.hf.space ✔\n",
      "                                                                                "
     ]
    },
    {
     "name": "stdout",
     "output_type": "stream",
     "text": [
      "+--------+-------------------+-------------+------------+-------------+------------+-----+------------+---------------------+---------------------+---+\n",
      "|post_key|           time_key|sentiment_key|  author_key|subreddit_key|postType_key|score|num_comments|total_awards_received|subreddit_subscribers| id|\n",
      "+--------+-------------------+-------------+------------+-------------+------------+-----+------------+---------------------+---------------------+---+\n",
      "| 1l0bhr6|2025-06-01 07:07:25|         NULL|        NULL|     t5_2qh16|        NULL|    1|           0|                    0|             19349025|  0|\n",
      "| 1l0buai|2025-06-01 07:25:33|  60129542144| t2_65fa26pr|     t5_2t7no|           0|    0|           9|                    0|             21575272|  1|\n",
      "| 1l0bvir|2025-06-01 07:27:18|  60129542144| t2_6h6wd5oz|     t5_2t7no|        NULL|  675|          45|                    0|             21575272|  2|\n",
      "| 1l0bvr5|2025-06-01 07:27:41|  94489280512| t2_8mw6j6fe|     t5_2t7no|        NULL|    0|          18|                    0|             21575271|  3|\n",
      "| 1l0bxi9|2025-06-01 07:30:13|  60129542144|t2_p5klht0fl|      t5_2fwo|           0|    1|           0|                    0|              6776435|  4|\n",
      "+--------+-------------------+-------------+------------+-------------+------------+-----+------------+---------------------+---------------------+---+\n",
      "\n"
     ]
    }
   ],
   "source": [
    "factPostActi.show()"
   ]
  },
  {
   "cell_type": "code",
   "execution_count": 81,
   "id": "5a683c7e-4be4-44fb-a804-dd2a1bdc1919",
   "metadata": {},
   "outputs": [
    {
     "name": "stderr",
     "output_type": "stream",
     "text": [
      "Loaded as API: https://dataguychill-sentiment.hf.space ✔            (0 + 1) / 1]\n",
      "Loaded as API: https://dataguychill-sentiment.hf.space ✔\n",
      "Loaded as API: https://dataguychill-sentiment.hf.space ✔\n",
      "Loaded as API: https://dataguychill-sentiment.hf.space ✔\n",
      "Loaded as API: https://dataguychill-sentiment.hf.space ✔\n",
      "Loaded as API: https://dataguychill-sentiment.hf.space ✔\n",
      "Loaded as API: https://dataguychill-sentiment.hf.space ✔\n",
      "Loaded as API: https://dataguychill-sentiment.hf.space ✔\n",
      "Loaded as API: https://dataguychill-sentiment.hf.space ✔\n",
      "Loaded as API: https://dataguychill-sentiment.hf.space ✔\n"
     ]
    },
    {
     "name": "stdout",
     "output_type": "stream",
     "text": [
      "+-----------+-------------------+-----------+-------------+-------------+--------+-----+----------------+---------------------+---+\n",
      "|comment_key|           time_key| author_key|sentiment_key|subreddit_key|post_key|score|controversiality|total_awards_received| id|\n",
      "+-----------+-------------------+-----------+-------------+-------------+--------+-----+----------------+---------------------+---+\n",
      "|    mvc2u2o|2025-06-01 07:26:19|t2_65fa26pr|  60129542144|     t5_2t7no| 1l0buai|    0|               0|                    0|  0|\n",
      "|    mvc30mg|2025-06-01 07:27:29|t2_6h6wd5oz|  60129542144|     t5_2t7no| 1l0bvir|    2|               1|                    0|  1|\n",
      "|    mvc3ikx|2025-06-01 07:30:38|       NULL|  60129542144|     t5_2t7no| 1l0bvir|    1|               0|                    0|  2|\n",
      "|    mvc3lwv|2025-06-01 07:31:13|       NULL|  60129542144|     t5_2t7no| 1l0bvr5|    1|               0|                    0|  3|\n",
      "|    mvc3uix|2025-06-01 07:32:45|       NULL|  60129542144|      t5_2fwo|    NULL|    1|               0|                    0|  4|\n",
      "|    mvc4ct7|2025-06-01 07:36:00|   t2_c0v9b|  25769803776|     t5_2t7no| 1l0bvir|    3|               1|                    0|  5|\n",
      "|    mvc4f29|2025-06-01 07:36:24|t2_245empqs|  60129542144|     t5_2t7no| 1l0bvir|   55|               0|                    0|  6|\n",
      "|    mvc54or|2025-06-01 07:40:59|t2_8ea9dgct|  60129542144|     t5_2t7no| 1l0bvr5|    4|               1|                    0|  7|\n",
      "|    mvc55pp|2025-06-01 07:41:10|   t2_4c4pg|  60129542144|     t5_2t7no| 1l0bvir|    4|               0|                    0|  8|\n",
      "|    mvc5w76|2025-06-01 07:45:53|t2_65fa26pr|  94489280512|     t5_2t7no|    NULL|    2|               0|                    0|  9|\n",
      "+-----------+-------------------+-----------+-------------+-------------+--------+-----+----------------+---------------------+---+\n",
      "\n"
     ]
    },
    {
     "name": "stderr",
     "output_type": "stream",
     "text": [
      "                                                                                "
     ]
    }
   ],
   "source": [
    "factCmtActi.show()"
   ]
  },
  {
   "cell_type": "code",
   "execution_count": 82,
   "id": "8e91d5ca-03b3-4698-9d37-420c0e1d17d4",
   "metadata": {},
   "outputs": [
    {
     "ename": "NameError",
     "evalue": "name 'dff' is not defined",
     "output_type": "error",
     "traceback": [
      "\u001b[31m---------------------------------------------------------------------------\u001b[39m",
      "\u001b[31mNameError\u001b[39m                                 Traceback (most recent call last)",
      "\u001b[36mCell\u001b[39m\u001b[36m \u001b[39m\u001b[32mIn[82]\u001b[39m\u001b[32m, line 1\u001b[39m\n\u001b[32m----> \u001b[39m\u001b[32m1\u001b[39m \u001b[43mdff\u001b[49m.groupBy(\u001b[33m\"\u001b[39m\u001b[33msubreddit_id\u001b[39m\u001b[33m\"\u001b[39m) \\\n\u001b[32m      2\u001b[39m    .count() \\\n\u001b[32m      3\u001b[39m    .orderBy(F.col(\u001b[33m\"\u001b[39m\u001b[33mcount\u001b[39m\u001b[33m\"\u001b[39m).desc()) \\\n\u001b[32m      4\u001b[39m    .show(\u001b[32m200\u001b[39m)\n",
      "\u001b[31mNameError\u001b[39m: name 'dff' is not defined"
     ]
    }
   ],
   "source": [
    "\n",
    "dff.groupBy(\"subreddit_id\") \\\n",
    "   .count() \\\n",
    "   .orderBy(F.col(\"count\").desc()) \\\n",
    "   .show(200)"
   ]
  },
  {
   "cell_type": "code",
   "execution_count": null,
   "id": "83d193a8-ca6f-4ce7-bd7f-8305af3ed330",
   "metadata": {},
   "outputs": [],
   "source": []
  },
  {
   "cell_type": "code",
   "execution_count": null,
   "id": "6ae877fc-f101-422d-bafc-18dd6f2a9f5f",
   "metadata": {},
   "outputs": [],
   "source": []
  }
 ],
 "metadata": {
  "kernelspec": {
   "display_name": "Python (redditkernel)",
   "language": "python",
   "name": "redditenv"
  },
  "language_info": {
   "codemirror_mode": {
    "name": "ipython",
    "version": 3
   },
   "file_extension": ".py",
   "mimetype": "text/x-python",
   "name": "python",
   "nbconvert_exporter": "python",
   "pygments_lexer": "ipython3",
   "version": "3.11.13"
  }
 },
 "nbformat": 4,
 "nbformat_minor": 5
}
