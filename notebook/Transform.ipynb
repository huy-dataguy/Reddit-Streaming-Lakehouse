{
 "cells": [
  {
   "cell_type": "markdown",
   "id": "710119c6-fc22-4c91-bb22-ac481e1423f8",
   "metadata": {},
   "source": [
    "## 1. Tạo Class"
   ]
  },
  {
   "cell_type": "code",
   "execution_count": 103,
   "id": "360cbdb1-4c17-4361-8ebf-197b94ef2305",
   "metadata": {},
   "outputs": [],
   "source": [
    "from pyspark.sql import functions as F\n",
    "from pyspark.sql import SparkSession\n",
    "from pyspark.sql.types import *\n",
    "from pyspark.sql.functions import *"
   ]
  },
  {
   "cell_type": "code",
   "execution_count": 104,
   "id": "c97a59c7-1f12-4429-9666-b9082e0533a2",
   "metadata": {},
   "outputs": [],
   "source": [
    "class BaseTransformer:\n",
    "    def __init__(self, sparkSession):\n",
    "        self.spark = sparkSession\n",
    "    def readData(self, path, format=\"json\", schema=None):\n",
    "        reader=self.spark.read.format(format)\n",
    "        if schema:\n",
    "            reader.schema(schema)\n",
    "        df=reader.load(path)\n",
    "        return df\n",
    "    def writeData(self, df, path, format=\"json\", dbPath=None, checkpointPath=None, mode=\"append\", streaming=False):\n",
    "        if streaming:\n",
    "            writer = (\n",
    "                df.writeStream\n",
    "                .format(format)\n",
    "                .option(\"checkpointLocation\", checkpointPath)\n",
    "                .outputMode(mode)\n",
    "            )\n",
    "            query = writer.toTable(dbPath)\n",
    "            query.awaitTermination()\n",
    "        else:\n",
    "            (\n",
    "                df.write\n",
    "                .format(format)\n",
    "                .mode(mode)\n",
    "                .save(path)\n",
    "            )\n",
    "    def showShape(self, df):\n",
    "        return (len(df.columns), df.count())\n",
    "\n",
    "    def convertTimestamp(self, df, colName=\"created_utc\", newCol=\"createdDate\"):\n",
    "        return df.withColumn(\n",
    "            newCol,\n",
    "            F.from_unixtime(F.col(colName)).cast(\"timestamp\")\n",
    "        )\n",
    "\n",
    "    def markAuthorDeleted(self, df, authorCol=\"author\", nameAuthor=\"author_fullname\", newCol=\"accDeleted\"):\n",
    "        return df.withColumn(\n",
    "            newCol,\n",
    "            (F.col(authorCol) == \"[deleted]\") & F.col(nameAuthor).isNull()\n",
    "        )\n",
    "\n",
    "    def markBodyRemoved(self, df, body=\"selftext\", newCol=\"postDeleted\"):\n",
    "        return df.withColumn(\n",
    "            newCol,\n",
    "            F.col(body) == \"[removed]\"\n",
    "        )"
   ]
  },
  {
   "cell_type": "code",
   "execution_count": 105,
   "id": "abfebd81-cb5c-4f63-b229-9b974e8f29d7",
   "metadata": {},
   "outputs": [],
   "source": [
    "class SubmissionTransformer(BaseTransformer):\n",
    "    def __init__(self, sparkSession):\n",
    "        super().__init__(sparkSession)\n",
    "\n",
    "    def markSpamPost(self, df, titleCol=\"title\", urlCol=\"url\", domainCol=\"domain\", subredditCol=\"subreddit\", newCol=\"isPostSpam\"):\n",
    "        words = F.split(F.lower(F.col(titleCol)), \" \")\n",
    "        numMatched = F.size(\n",
    "        F.expr(f\"filter(split(lower({titleCol}), ' '), word -> instr(lower({urlCol}), word) > 0)\")\n",
    "        )        \n",
    "        totalWord = F.size(words)\n",
    "        matchPercent = (numMatched * 100) / totalWord\n",
    "        isPostSpam = (matchPercent >= 55) & (\n",
    "        F.col(domainCol) != F.concat(F.lit(\"self.\"), F.col(subredditCol))\n",
    "        )\n",
    "        \n",
    "        return df.withColumn(\"matchPercent\", matchPercent).withColumn(newCol, isPostSpam)        \n",
    "\n",
    "    def transform(self, df):\n",
    "        df = self.convertTimestamp(df)\n",
    "        df = self.markAuthorDeleted(df) \n",
    "        df = self.markBodyRemoved(df)\n",
    "        df = self.markSpamPost(df)\n",
    "        return df"
   ]
  },
  {
   "cell_type": "code",
   "execution_count": 106,
   "id": "c9ad3334-9080-4aa0-ac82-ad18960fdeb2",
   "metadata": {},
   "outputs": [],
   "source": [
    "class CommentTransformer(BaseTransformer):\n",
    "    def __init__(self, sparkSession):\n",
    "        super().__init__(sparkSession)\n",
    "\n",
    "    def normalizeParentId(self, df, parentIdCol=\"parent_id\", newCol=\"parent_clean\"):\n",
    "        \"\"\"Removes prefixes like 't3_' and 't1_' from parent_id.\"\"\"\n",
    "        return df.withColumn(\n",
    "            newCol,\n",
    "            F.regexp_replace(F.col(parentIdCol), r\"^(t[13]_)\", \"\")\n",
    "        )\n",
    "\n",
    "    def normalizeLinkId(self, df, linkIdCol=\"link_id\", newCol=\"link_clean\"):\n",
    "        \"\"\"Removes the 't3_' prefix from link_id.\"\"\"\n",
    "        return df.withColumn(\n",
    "            newCol,\n",
    "            F.regexp_replace(F.col(linkIdCol), r\"^t3_\", \"\")\n",
    "        )\n",
    "    \n",
    "    def markModComments(self, df, authorCol=\"author\", newColMod=\"deleted_by_mod\", newColAutoMod=\"deleted_by_auto\"):\n",
    "        \"\"\"Marks comments from Mod Team or AutoModerator.\"\"\"\n",
    "        df_with_mod = df.withColumn(\n",
    "            newColMod,\n",
    "            F.lower(F.col(authorCol)).like(\"%-modteam\")\n",
    "        )\n",
    "        return df_with_mod.withColumn(\n",
    "            newColAutoMod,\n",
    "            F.col(authorCol) == \"AutoModerator\"\n",
    "        )\n",
    "    def transform(self, df):\n",
    "        df = self.convertTimestamp(df)\n",
    "        df = self.markAuthorDeleted(df) \n",
    "        df = self.markBodyRemoved(df, body=\"body\", newCol=\"cmtDeleted\")\n",
    "        df = self.normalizeParentId(df)\n",
    "        df = self.normalizeLinkId(df)\n",
    "        df = self.markModComments(df)\n",
    "        return df"
   ]
  },
  {
   "cell_type": "code",
   "execution_count": 107,
   "id": "38338e83-08a5-4ce7-a862-2bfd0adbad94",
   "metadata": {},
   "outputs": [],
   "source": [
    "class GoldTransformer(BaseTransformer):\n",
    "    def __init__(self, sparkSession, dfSubmission, dfComment):\n",
    "        super().__init__(sparkSession)\n",
    "        self.dfSubmission = dfSubmission\n",
    "        self.dfComment = dfComment\n",
    "        self.dimTime\n",
    "        self.dimAuthor\n",
    "        self.dimSubreddit\n",
    "        self.dimPostType\n",
    "        self.dimPost\n",
    "        self.dimComment\n",
    "        self.dimSentiment\n",
    "    \n",
    "    def createDimTime(self,timestampCol=\"createdDate\"):\n",
    "        dfTimestamp=self.dfSubmission.select(timestampCol).distinct().union(self.dfComment.select(timestampCol).distinct())\n",
    "        dimTime=(dfTimestamp.withColumn(\"year\", F.year(F.col(timestampCol)))\n",
    "                            .withColumn(\"month\", F.month(F.col(timestampCol)))\n",
    "                            .withColumn(\"day\", F.dayofmonth(F.col(timestampCol)))\n",
    "                            .withColumn(\"hour\", F.hour(F.col(timestampCol)))\n",
    "                            .withColumn(\"minute\", F.minute(F.col(timestampCol))) \n",
    "                            .withColumn(\"second\", F.second(F.col(timestampCol))) \n",
    "                            .withColumn(\"day_of_week\", F.dayofweek(F.col(timestampCol)))\n",
    "                            .withColumn(\"time_key\", F.monotonically_increasing_id()))\n",
    "        return dimTime\n",
    "        \n",
    "    def createDimAuthor(self, authorName=\"author\", fullName=\"author_fullname\"):\n",
    "        dimAuthor=(self.dfSubmission.select(authorName, fullName).distinct()\n",
    "            .union(self.dfComment.select(authorName, fullName).distinct())\n",
    "            .distinct()\n",
    "            .withColumn(\"author_key\", F.monotonically_increasing_id()))\n",
    "        return dimAuthor\n",
    "\n",
    "    def createDimSubreddit(self, subredditId=\"subreddit_id\", subredditName=\"subreddit\", subredditNamePrefixed=\"subreddit_name_prefixed\", subredditType=\"subreddit_type\",subredditSubscribers=\"subreddit_subscribers\"):\n",
    "        dimSubreddit=(self.dfSubmission.select(\n",
    "                                        F.col(subredditId),\n",
    "                                        F.col(subredditName),\n",
    "                                        F.col(subredditNamePrefixed),\n",
    "                                        F.col(subredditType),\n",
    "                                        F.col(subredditSubscribers))\n",
    "                                    .withColumnRenamed(subredditId, \"subreddit_key\")\n",
    "                                    .withColumnRenamed(subredditName, \"subreddit_name\")\n",
    "                                      .distinct())\n",
    "        return dimSubreddit\n",
    "\n",
    "    def createDimPostType(self, postType=\"post_hint\"):\n",
    "        dimPostType=(self.dfSubmission.select(F.col(postType))\n",
    "                                     .withColumn(\"post_type_key\", F.monotonically_increasing_id())\n",
    "                                    . dictinct())\n",
    "        return dimPostType\n",
    "    def createDimPost (self):\n",
    "        dfSub=self.dfSubmission\n",
    "        dfCmt=self.dfComment\n",
    "        dimJoinRaw = (\n",
    "            dfSub.join(dfCmt, dfSub[\"id\"] == dfCmt[\"link_id\"], \"inner\")\n",
    "                  .select(\n",
    "                      dfSub[\"id\"],\n",
    "                      dfSub[\"title\"],\n",
    "                      dfSub[\"permalink\"],\n",
    "                      dfSub[\"url\"],\n",
    "                      dfSub[\"domain\"],\n",
    "                      dfSub[\"is_edited\"],\n",
    "                      dfSub[\"is_locked\"],\n",
    "                      dfSub[\"is_spoiler\"],\n",
    "                      dfSub[\"is_over_18\"],\n",
    "                      dfSub[\"is_stickied\"],\n",
    "                      dfSub[\"is_original_content\"],\n",
    "                      dfSub[\"link_flair_text\"],\n",
    "                      dfSub[\"accDeleted\"],\n",
    "                      dfSub[\"postDeleted\"],\n",
    "                      dfCmt[\"isModDeleted\"],\n",
    "                      dfCmt[\"isAutoDeleted\"]\n",
    "                  )\n",
    "        )                                                             \n",
    "        dimPost=(dimJoinRaw.withColumn(\"postStatus\",\n",
    "                                         F.when(F.col(\"accDeleted\"==True, F.lit(\"AuthorDeleted\")))\n",
    "                                          .when(F.col (\"postDeleted\"==True and accDeleted==False, F.lit(\"SelfDeleted\")))\n",
    "                                         . when(F.col(\"isModDeleted\"==True, F.lit(\"ModDeleted\")))\n",
    "                                         .when(F.col(\"isAutoDeleted\"==True, F.lit(\"AutoDeleted\")))\n",
    "                                            .otherwise(F.lit(\"active\")))\n",
    "                                .withColumnRenamed(\"id\", \"post_key\"))\n",
    "        return dimPost\n",
    "    \n",
    "    def createDimComment(self):\n",
    "        dimComment=self.dfComment.select(F.col(\"id\"), F.col(\"body\"), F.col(\"permalink\")\n",
    "                                         , F.col(\"is_edited\"), F.col(\"is_submitter\")\n",
    "                                         , F.col(\"controversiality\"))\n",
    "        return dimComment\n",
    "\n",
    "    def createDimTopic(self):\n",
    "        dimTopic=(self.dfSubmisison.select(\"topic_label\")\n",
    "                                    .withColumn(\"topic_key\", F.monotonically_increasing_id()))\n",
    "        return dimTopic\n",
    "    def createDimSentiment(self):\n",
    "        return (self.dfSubmission.select(\"sentiment_label\")\n",
    "            .withColumn(\"sentiment_key\", F.monotonically_increasing_id()))\n",
    "\n",
    "    def createFactPostActivity(self):\n",
    "        dfPostActi = (self.dfSubmission.select(F.col(\"id\"),  col(\"author_fullname\"), col(\"createdDate\"),\n",
    "                                                col(\"subreddit\"), col(\"post_hint\"),\n",
    "                                                col(\"topic_label\"), \n",
    "                                                col(\"sentiment_label\"),\n",
    "                                                col(\"score\"), col(\"num_comments\"),\n",
    "                                               col(\"total_awards_received\")))\n",
    "        \n",
    "        factActi=dfPostActi.join(self.dimTime, self.dimTime.createdDate==dfPostActi.createDate,\n",
    "                                 \"left\").drop(\"createdDate\")\n",
    "        factActi=factActi.join(self.dimAuthor, self.dimAuthor.author_fullname==factActi.author_fullname,\n",
    "                               \"left\").drop(\"author_fullname\")\n",
    "        factActi=factActi.join(self.dimSubreddit, self.dimSubreddit.subreddit==factActi.subreddit, \"left\").drop(\"subreddit\")\n",
    "        factActi=factActi.join(self.dimPostType, self.dimPostType.post_hint==factActi.post_hint, \"left\").drop(\"post_hint\")\n",
    "        factActi=facActi.join(self.dimTopic, self.dimTopic.topic_labell==factActi.topic_label, \n",
    "                              \"left\").drop(\"topic_labell\")\n",
    "        factActi=facActi.join(self.DimSentiment, self.DimSentiment.sentiment_label==factActi.sentiment_label, \n",
    "                              \"left\").drop(\"sentiment_label\")\n",
    "\n",
    "        factActi = (factActi.select(\n",
    "            F.col(\"id\"), col(\"time_key\"),col(\"author_key\"),col(\"subreddit_key\"),col(\"post_type_key\"),\n",
    "             col(\"topic_key\"),col(\"sentiment_key\"),col(\"score\"),col(\"num_comments\"),col(\"total_awards_received\"))\n",
    "            .withColumnRenamed(\"id\", \"post_key\")\n",
    "            .withColumn(\"id\", F.monotonically_increasing_id()))\n",
    "        return factActi\n",
    "        \n",
    "    def createFactCommentActivity(self):\n",
    "        dfCommentActi = (self.dfComment.select(\n",
    "            F.col(\"id\"),col(\"author_fullname\"),col(\"createdDate\"),col(\"subreddit\"),\n",
    "            col(\"link_id\"),\n",
    "            col(\"sentiment_label\"),\n",
    "            col(\"score\"),\n",
    "            col(\"controversiality\"),\n",
    "            col(\"total_awards_received\")))\n",
    "\n",
    "        factActi = dfCommentActi.join(self.dimTime,\n",
    "            self.dimTime.createdDate == dfCommentActi.createdDate,\n",
    "            \"left\").drop(\"createdDate\")\n",
    "        factActi= factActi.join(self.dimAuthor,\n",
    "            self.dimAuthor.author_fullname == factActi.author_fullname,\n",
    "            \"left\").drop(\"author_fullname\")\n",
    "    \n",
    "        factActi =factActi.join(self.dimSubreddit,\n",
    "            self.dimSubreddit.subreddit_name == factActi.subreddit,\n",
    "            \"left\").drop(\"subreddit_name\")\n",
    "        factActi = factActi.join(\n",
    "            self.dimSentiment,\n",
    "            self.dimSentiment.sentiment_label == factActi.sentiment_label,\n",
    "            \"left\").drop(\"sentiment_label\")\n",
    "    \n",
    "        factActi= factActi.select(\n",
    "            F.col(\"time_key\"),col(\"author_key\"),col(\"subreddit_key\"),\n",
    "            col(\"post_key\"),col(\"sentiment_key\"),\n",
    "            col(\"score\"),col(\"controversiality\"), col(\"total_awards_received\"))\n",
    "\n",
    "        return factActi"
   ]
  },
  {
   "cell_type": "markdown",
   "id": "c844882c-7507-4da8-92fa-19f76b3cb516",
   "metadata": {},
   "source": [
    "## 2. Spark Session"
   ]
  },
  {
   "cell_type": "code",
   "execution_count": 108,
   "id": "8179d72d-172a-4a6c-92a5-36f9a9181246",
   "metadata": {},
   "outputs": [],
   "source": [
    "spark = SparkSession.builder.appName(\"Transformer\").getOrCreate()"
   ]
  },
  {
   "cell_type": "markdown",
   "id": "af6c8aa3-13d6-43eb-a6f2-dcb49e13b5b3",
   "metadata": {},
   "source": [
    "## 3. Transform Submission Silver"
   ]
  },
  {
   "cell_type": "code",
   "execution_count": 109,
   "id": "aa2cdc88-3988-4050-948e-045d4550881b",
   "metadata": {},
   "outputs": [],
   "source": [
    "pathSub = \"../data/RS_reddit.jsonl\"\n",
    "rSubmissionBronzeSchema = StructType([\n",
    "    StructField(\"id\", StringType(), True),\n",
    "    StructField(\"title\", StringType(), True),\n",
    "    StructField(\"selftext\", StringType(), True),\n",
    "    StructField(\"url\", StringType(), True),\n",
    "    StructField(\"permalink\", StringType(), True),\n",
    "    StructField(\"domain\", StringType(), True),\n",
    "    StructField(\"post_hint\", StringType(), True),\n",
    "    StructField(\"author\", StringType(), True),\n",
    "    StructField(\"author_fullname\", StringType(), True),\n",
    "    StructField(\"created_utc\", LongType(), True),\n",
    "    StructField(\"subreddit\", StringType(), True),\n",
    "    StructField(\"subreddit_id\", StringType(), True),\n",
    "    StructField(\"subreddit_name_prefixed\", StringType(), True),\n",
    "    StructField(\"subreddit_type\", StringType(), True),\n",
    "    StructField(\"subreddit_subscribers\", IntegerType(), True),\n",
    "    StructField(\"score\", IntegerType(), True),\n",
    "    StructField(\"num_comments\", IntegerType(), True),\n",
    "    StructField(\"total_awards_received\", IntegerType(), True),\n",
    "    StructField(\"edited\", BooleanType(), True),\n",
    "    StructField(\"locked\", BooleanType(), True),\n",
    "    StructField(\"spoiler\", BooleanType(), True),\n",
    "    StructField(\"over_18\", BooleanType(), True),\n",
    "    StructField(\"stickied\", BooleanType(), True),   \n",
    "    StructField(\"retrieved_on\", LongType(), True),\n",
    "    StructField(\"is_original_content\", BooleanType(), True),\n",
    "    StructField(\"link_flair_text\", StringType(), True)\n",
    "])\n"
   ]
  },
  {
   "cell_type": "code",
   "execution_count": 110,
   "id": "5a5baf75-4229-4e05-8425-be3d537c29fd",
   "metadata": {},
   "outputs": [],
   "source": [
    "submission = SubmissionTransformer(spark)"
   ]
  },
  {
   "cell_type": "code",
   "execution_count": 111,
   "id": "6d4718c4-2c4f-4242-b3d0-d7251088a5c5",
   "metadata": {},
   "outputs": [],
   "source": [
    "dfSub = submission.readData(pathSub, schema=rSubmissionBronzeSchema)"
   ]
  },
  {
   "cell_type": "code",
   "execution_count": 112,
   "id": "5cab8eb7-413d-4549-bc33-5f780103ef1f",
   "metadata": {},
   "outputs": [
    {
     "data": {
      "text/plain": [
       "(26, 7306)"
      ]
     },
     "execution_count": 112,
     "metadata": {},
     "output_type": "execute_result"
    }
   ],
   "source": [
    "submission.showShape(dfSub)"
   ]
  },
  {
   "cell_type": "code",
   "execution_count": 120,
   "id": "ad6578c4-b49c-4403-a8fe-52d66951c409",
   "metadata": {},
   "outputs": [],
   "source": [
    "dfSub=submission.transform(dfSub)"
   ]
  },
  {
   "cell_type": "code",
   "execution_count": 121,
   "id": "a74416cb-8198-4ad5-8290-f4a106a73172",
   "metadata": {},
   "outputs": [
    {
     "data": {
      "text/plain": [
       "(31, 7306)"
      ]
     },
     "execution_count": 121,
     "metadata": {},
     "output_type": "execute_result"
    }
   ],
   "source": [
    "submission.showShape(dfSub)"
   ]
  },
  {
   "cell_type": "code",
   "execution_count": 130,
   "id": "73f52a72-165c-4202-b5a6-167ea05598d1",
   "metadata": {},
   "outputs": [
    {
     "data": {
      "text/plain": [
       "['id',\n",
       " 'title',\n",
       " 'selftext',\n",
       " 'url',\n",
       " 'permalink',\n",
       " 'domain',\n",
       " 'post_hint',\n",
       " 'author',\n",
       " 'author_fullname',\n",
       " 'created_utc',\n",
       " 'subreddit',\n",
       " 'subreddit_id',\n",
       " 'subreddit_name_prefixed',\n",
       " 'subreddit_type',\n",
       " 'subreddit_subscribers',\n",
       " 'score',\n",
       " 'num_comments',\n",
       " 'total_awards_received',\n",
       " 'edited',\n",
       " 'locked',\n",
       " 'spoiler',\n",
       " 'over_18',\n",
       " 'stickied',\n",
       " 'retrieved_on',\n",
       " 'is_original_content',\n",
       " 'link_flair_text',\n",
       " 'createdDate',\n",
       " 'accDeleted',\n",
       " 'postDeleted',\n",
       " 'matchPercent',\n",
       " 'isPostSpam']"
      ]
     },
     "execution_count": 130,
     "metadata": {},
     "output_type": "execute_result"
    }
   ],
   "source": [
    "dfSub.columns"
   ]
  },
  {
   "cell_type": "markdown",
   "id": "7fe82fce-b70d-415d-9f96-372897e31599",
   "metadata": {},
   "source": [
    "## 3. Transform Comment Silver"
   ]
  },
  {
   "cell_type": "code",
   "execution_count": 113,
   "id": "b3b90468-d0eb-4513-a13c-7d37062a793c",
   "metadata": {},
   "outputs": [],
   "source": [
    "comment=CommentTransformer(spark)"
   ]
  },
  {
   "cell_type": "code",
   "execution_count": 114,
   "id": "3cf7f5f3-1018-418b-bd95-4d2bd5784e89",
   "metadata": {},
   "outputs": [],
   "source": [
    "pathCmt = \"../data/RC_reddit.jsonl\"\n",
    "\n",
    "rCommentBronzeSchema = StructType([\n",
    "    StructField(\"id\", StringType(), True),\n",
    "    StructField(\"body\", StringType(), True),\n",
    "    StructField(\"created_utc\", LongType(), True),\n",
    "    StructField(\"edited\", BooleanType(), True),\n",
    "    StructField(\"score\", IntegerType(), True),\n",
    "    StructField(\"author\", StringType(), True),\n",
    "    StructField(\"author_fullname\", StringType(), True),\n",
    "    StructField(\"author_created_utc\", LongType(), True),\n",
    "    StructField(\"parent_id\", StringType(), True),\n",
    "    StructField(\"link_id\", StringType(), True),\n",
    "    StructField(\"is_submitter\", BooleanType(), True),\n",
    "    StructField(\"permalink\", StringType(), True),\n",
    "    StructField(\"subreddit\", StringType(), True),\n",
    "    StructField(\"subreddit_id\", StringType(), True),\n",
    "    StructField(\"subreddit_name_prefixed\", StringType(), True),\n",
    "    StructField(\"subreddit_type\", StringType(), True),\n",
    "    StructField(\"total_awards_received\", IntegerType(), True),\n",
    "    StructField(\"controversiality\", IntegerType(), True),\n",
    "    StructField(\"retrieved_on\", LongType(), True),\n",
    "    StructField(\"stickied\", BooleanType(), True)\n",
    "])\n",
    "\n"
   ]
  },
  {
   "cell_type": "code",
   "execution_count": 115,
   "id": "005cadc9-8874-41d1-a31c-033dc3f2c8d7",
   "metadata": {},
   "outputs": [],
   "source": [
    "dfCmt=comment.readData(pathCmt, schema=rCommentBronzeSchema)"
   ]
  },
  {
   "cell_type": "code",
   "execution_count": 116,
   "id": "a13a149e-f36b-43e3-b02f-43839ae3a9c8",
   "metadata": {},
   "outputs": [
    {
     "data": {
      "text/plain": [
       "(20, 65661)"
      ]
     },
     "execution_count": 116,
     "metadata": {},
     "output_type": "execute_result"
    }
   ],
   "source": [
    "comment.showShape(dfCmt)"
   ]
  },
  {
   "cell_type": "code",
   "execution_count": 122,
   "id": "3f78e3f7-82c3-4626-b9b8-7944b5d2e778",
   "metadata": {},
   "outputs": [],
   "source": [
    "dfCmt=comment.transform(dfCmt)"
   ]
  },
  {
   "cell_type": "code",
   "execution_count": 123,
   "id": "6bcba211-6321-4a64-a08c-e5d0ee2f599b",
   "metadata": {},
   "outputs": [
    {
     "data": {
      "text/plain": [
       "(27, 65661)"
      ]
     },
     "execution_count": 123,
     "metadata": {},
     "output_type": "execute_result"
    }
   ],
   "source": [
    "comment.showShape(dfCmt)"
   ]
  },
  {
   "cell_type": "code",
   "execution_count": 128,
   "id": "0d5736a2-a26b-4088-ba99-7ceaf6884c59",
   "metadata": {},
   "outputs": [
    {
     "data": {
      "text/plain": [
       "['id',\n",
       " 'body',\n",
       " 'created_utc',\n",
       " 'edited',\n",
       " 'score',\n",
       " 'author',\n",
       " 'author_fullname',\n",
       " 'author_created_utc',\n",
       " 'parent_id',\n",
       " 'link_id',\n",
       " 'is_submitter',\n",
       " 'permalink',\n",
       " 'subreddit',\n",
       " 'subreddit_id',\n",
       " 'subreddit_name_prefixed',\n",
       " 'subreddit_type',\n",
       " 'total_awards_received',\n",
       " 'controversiality',\n",
       " 'retrieved_on',\n",
       " 'stickied',\n",
       " 'createdDate',\n",
       " 'accDeleted',\n",
       " 'cmtDeleted',\n",
       " 'parent_clean',\n",
       " 'link_clean',\n",
       " 'deleted_by_mod',\n",
       " 'deleted_by_auto']"
      ]
     },
     "execution_count": 128,
     "metadata": {},
     "output_type": "execute_result"
    }
   ],
   "source": [
    "dfCmt.columns"
   ]
  },
  {
   "cell_type": "markdown",
   "id": "68e32548-d477-4d63-8964-a5221c4d5921",
   "metadata": {},
   "source": [
    "## 4. Gold Transform DimTime DimAuthor test "
   ]
  },
  {
   "cell_type": "code",
   "execution_count": null,
   "id": "5b85a19c-1a87-4a09-a1c2-25e125adeb1c",
   "metadata": {},
   "outputs": [],
   "source": []
  },
  {
   "cell_type": "code",
   "execution_count": null,
   "id": "c382bb5b-d99d-4a75-b601-b0df7195086e",
   "metadata": {},
   "outputs": [],
   "source": []
  },
  {
   "cell_type": "code",
   "execution_count": null,
   "id": "1d4891ed-b97d-4b4c-b084-a835c780e0a5",
   "metadata": {},
   "outputs": [],
   "source": []
  },
  {
   "cell_type": "code",
   "execution_count": null,
   "id": "15fd4784-aa33-40c3-b327-a5f0c96605ea",
   "metadata": {},
   "outputs": [],
   "source": []
  },
  {
   "cell_type": "code",
   "execution_count": null,
   "id": "c563760b-5f29-445e-9a05-dc389605cd80",
   "metadata": {},
   "outputs": [],
   "source": []
  },
  {
   "cell_type": "code",
   "execution_count": null,
   "id": "75c6f86a-d140-4781-881e-822a07b878f7",
   "metadata": {},
   "outputs": [],
   "source": []
  },
  {
   "cell_type": "code",
   "execution_count": null,
   "id": "428b75b7-1683-4ebc-bfe5-57e175eaaa85",
   "metadata": {},
   "outputs": [],
   "source": []
  },
  {
   "cell_type": "code",
   "execution_count": null,
   "id": "f4aad9ce-ce35-4b5f-ae9f-cb262202a7e5",
   "metadata": {},
   "outputs": [],
   "source": []
  },
  {
   "cell_type": "code",
   "execution_count": 131,
   "id": "c41c63c6-c907-4753-b55d-e65083e24bda",
   "metadata": {},
   "outputs": [
    {
     "name": "stderr",
     "output_type": "stream",
     "text": [
      "25/08/14 00:27:57 WARN SparkSession: Using an existing Spark session; only runtime SQL configurations will take effect.\n"
     ]
    }
   ],
   "source": [
    "spark = SparkSession.builder.appName(\"Exxx\").getOrCreate()\n",
    "   "
   ]
  },
  {
   "cell_type": "code",
   "execution_count": 132,
   "id": "f65b408b-ddec-4dde-a991-f3384c2125ed",
   "metadata": {},
   "outputs": [],
   "source": [
    " \n",
    "    post_schema = StructType([\n",
    "        StructField(\"post_id\", IntegerType(), True),\n",
    "        StructField(\"content\", StringType(), True),\n",
    "        StructField(\"type\", StringType(), True),\n",
    "    ])\n",
    "    post_data = [\n",
    "        (1, \"Post 1 content\", \"image\"),\n",
    "        (2, \"Post 2 content\", \"text\")\n",
    "    ]\n",
    "    post_df = spark.createDataFrame(post_data, post_schema)\n",
    "    \n",
    "    comment_schema = StructType([\n",
    "        StructField(\"comment_id\", IntegerType(), True),\n",
    "        StructField(\"post_id\", IntegerType(), True),\n",
    "        StructField(\"content\", StringType(), True),\n",
    "    ])\n",
    "    comment_data = [\n",
    "        (1, 1, \"Comment 1 on post 1\"),\n",
    "        (2, 3, \"Comment 2 on post 1\"),\n",
    "        (3, 2, \"Comment 1 on post 2\")\n",
    "    ]\n",
    "    comment_df = spark.createDataFrame(comment_data, comment_schema)\n",
    "    \n",
    "    "
   ]
  },
  {
   "cell_type": "code",
   "execution_count": 133,
   "id": "595518d0-c184-4dd5-b055-70b401ac5747",
   "metadata": {},
   "outputs": [
    {
     "name": "stdout",
     "output_type": "stream",
     "text": [
      "+-------+--------------+-----+\n",
      "|post_id|       content| type|\n",
      "+-------+--------------+-----+\n",
      "|      1|Post 1 content|image|\n",
      "|      2|Post 2 content| text|\n",
      "+-------+--------------+-----+\n",
      "\n"
     ]
    }
   ],
   "source": [
    "post_df.show()"
   ]
  },
  {
   "cell_type": "code",
   "execution_count": 134,
   "id": "b5321424-6101-46cd-b1ff-973eea52cf63",
   "metadata": {},
   "outputs": [
    {
     "name": "stdout",
     "output_type": "stream",
     "text": [
      "+----------+-------+-------------------+\n",
      "|comment_id|post_id|            content|\n",
      "+----------+-------+-------------------+\n",
      "|         1|      1|Comment 1 on post 1|\n",
      "|         2|      3|Comment 2 on post 1|\n",
      "|         3|      2|Comment 1 on post 2|\n",
      "+----------+-------+-------------------+\n",
      "\n"
     ]
    }
   ],
   "source": [
    "comment_df.show()"
   ]
  },
  {
   "cell_type": "code",
   "execution_count": 142,
   "id": "a973a43d-1fe3-43c2-b636-f8dd480c417c",
   "metadata": {},
   "outputs": [],
   "source": [
    "joinn = post_df.join(comment_df, comment_df.post_id==post_df.post_id, \"left\")"
   ]
  },
  {
   "cell_type": "code",
   "execution_count": 143,
   "id": "1a3ab8c5-6048-4188-8022-a104bda00986",
   "metadata": {},
   "outputs": [
    {
     "name": "stdout",
     "output_type": "stream",
     "text": [
      "+-------+--------------+-----+----------+-------+-------------------+\n",
      "|post_id|       content| type|comment_id|post_id|            content|\n",
      "+-------+--------------+-----+----------+-------+-------------------+\n",
      "|      1|Post 1 content|image|         1|      1|Comment 1 on post 1|\n",
      "|      2|Post 2 content| text|         3|      2|Comment 1 on post 2|\n",
      "+-------+--------------+-----+----------+-------+-------------------+\n",
      "\n"
     ]
    }
   ],
   "source": [
    "joinn.show()"
   ]
  },
  {
   "cell_type": "code",
   "execution_count": 144,
   "id": "97988034-a40d-4a40-b757-c3126322abfb",
   "metadata": {},
   "outputs": [],
   "source": [
    "joinn = post_df.join(comment_df, comment_df.post_id==post_df.post_id, \"left\").drop(\"post_id\")"
   ]
  },
  {
   "cell_type": "code",
   "execution_count": 145,
   "id": "554014dd-d939-4644-bfcc-fd13f7d5f2bb",
   "metadata": {},
   "outputs": [
    {
     "name": "stdout",
     "output_type": "stream",
     "text": [
      "+--------------+-----+----------+-------------------+\n",
      "|       content| type|comment_id|            content|\n",
      "+--------------+-----+----------+-------------------+\n",
      "|Post 1 content|image|         1|Comment 1 on post 1|\n",
      "|Post 2 content| text|         3|Comment 1 on post 2|\n",
      "+--------------+-----+----------+-------------------+\n",
      "\n"
     ]
    }
   ],
   "source": [
    "joinn.show()"
   ]
  }
 ],
 "metadata": {
  "kernelspec": {
   "display_name": "Python 3 (ipykernel)",
   "language": "python",
   "name": "python3"
  },
  "language_info": {
   "codemirror_mode": {
    "name": "ipython",
    "version": 3
   },
   "file_extension": ".py",
   "mimetype": "text/x-python",
   "name": "python",
   "nbconvert_exporter": "python",
   "pygments_lexer": "ipython3",
   "version": "3.12.3"
  }
 },
 "nbformat": 4,
 "nbformat_minor": 5
}
