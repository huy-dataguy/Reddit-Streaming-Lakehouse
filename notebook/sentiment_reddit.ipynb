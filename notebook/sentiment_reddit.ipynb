{
  "cells": [
    {
      "cell_type": "code",
      "execution_count": null,
      "metadata": {
        "colab": {
          "base_uri": "https://localhost:8080/"
        },
        "id": "Xg4BBgp4iLfm",
        "outputId": "92754b99-aaad-4f08-d93b-000e3bfd8b66"
      },
      "outputs": [
        {
          "name": "stdout",
          "output_type": "stream",
          "text": [
            "\u001b[?25l   \u001b[90m━━━━━━━━━━━━━━━━━━━━━━━━━━━━━━━━━━━━━━━━\u001b[0m \u001b[32m0.0/84.1 kB\u001b[0m \u001b[31m?\u001b[0m eta \u001b[36m-:--:--\u001b[0m\r\u001b[2K   \u001b[90m━━━━━━━━━━━━━━━━━━━━━━━━━━━━━━━━━━━━━━━━\u001b[0m \u001b[32m84.1/84.1 kB\u001b[0m \u001b[31m5.1 MB/s\u001b[0m eta \u001b[36m0:00:00\u001b[0m\n",
            "\u001b[?25hCUDA available: True\n",
            "GPU name: Tesla T4\n"
          ]
        }
      ],
      "source": [
        "# ===========================\n",
        "# 1. Cài đặt thư viện\n",
        "# ===========================\n",
        "!pip install -q transformers datasets evaluate accelerate torch torchvision torchaudio gradio_client\n",
        "\n",
        "# ===========================\n",
        "# 2. Kiểm tra GPU và import thư viện\n",
        "# ===========================\n",
        "import torch\n",
        "print(\"CUDA available:\", torch.cuda.is_available())\n",
        "if torch.cuda.is_available():\n",
        "    print(\"GPU name:\", torch.cuda.get_device_name(0))\n",
        "else:\n",
        "    print(\"❌ Không tìm thấy GPU. Vào Runtime → Change runtime type → GPU.\")\n",
        "\n",
        "from datasets import load_dataset, Dataset\n",
        "from transformers import AutoTokenizer, AutoModelForSequenceClassification, DistilBertForSequenceClassification, DistilBertTokenizer\n",
        "import evaluate\n",
        "import numpy as np\n",
        "import torch.nn.functional as F\n",
        "from torch.utils.data import DataLoader\n",
        "from tqdm.auto import tqdm\n",
        "from transformers import get_scheduler\n",
        "from gradio_client import Client"
      ]
    },
    {
      "cell_type": "code",
      "execution_count": null,
      "metadata": {
        "id": "uWDWwwWPiOhJ"
      },
      "outputs": [],
      "source": [
        "# ===========================\n",
        "# 3. Tải và tiền xử lý dataset\n",
        "# ===========================\n",
        "dataset = load_dataset(\"go_emotions\", \"simplified\")\n",
        "label_names = dataset[\"train\"].features[\"labels\"].feature.names\n",
        "\n",
        "NEGATIVE = {\"anger\", \"annoyance\", \"disapproval\", \"disgust\", \"fear\", \"sadness\"}\n",
        "POSITIVE = {\"joy\", \"love\", \"admiration\", \"approval\", \"gratitude\", \"relief\", \"pride\", \"excitement\"}\n",
        "ALL_LABELS = set(label_names)\n",
        "NEUTRAL = ALL_LABELS - NEGATIVE - POSITIVE\n",
        "\n",
        "label2sentiment = {}\n",
        "for lbl in NEGATIVE: label2sentiment[lbl] = 0\n",
        "for lbl in POSITIVE: label2sentiment[lbl] = 2\n",
        "for lbl in NEUTRAL: label2sentiment[lbl] = 1\n",
        "\n",
        "def map_to_sentiment(example):\n",
        "    if example[\"labels\"]:\n",
        "        raw_label = example[\"labels\"][0]\n",
        "        lbl_name = label_names[raw_label]\n",
        "        example[\"labels\"] = label2sentiment[lbl_name]\n",
        "    else:\n",
        "        example[\"labels\"] = 1 # neutral\n",
        "    return example\n",
        "\n",
        "dataset = dataset.map(map_to_sentiment)\n",
        "\n",
        "tokenizer_name = \"distilbert-base-uncased\"\n",
        "student_tokenizer = DistilBertTokenizer.from_pretrained(tokenizer_name)\n",
        "\n",
        "def tokenize_function(examples):\n",
        "    return student_tokenizer(examples[\"text\"], truncation=True, padding=\"max_length\", max_length=128)\n",
        "\n",
        "tokenized_datasets = dataset.map(tokenize_function, batched=True)\n",
        "tokenized_datasets = tokenized_datasets.remove_columns([\"text\"])"
      ]
    },
    {
      "cell_type": "code",
      "execution_count": null,
      "metadata": {
        "colab": {
          "base_uri": "https://localhost:8080/"
        },
        "id": "_kt0ziBbiU25",
        "outputId": "c5e81c1e-3a1c-4fea-feae-40f226388084"
      },
      "outputs": [
        {
          "name": "stderr",
          "output_type": "stream",
          "text": [
            "Some weights of DistilBertForSequenceClassification were not initialized from the model checkpoint at distilbert-base-uncased and are newly initialized: ['classifier.bias', 'classifier.weight', 'pre_classifier.bias', 'pre_classifier.weight']\n",
            "You should probably TRAIN this model on a down-stream task to be able to use it for predictions and inference.\n"
          ]
        },
        {
          "name": "stdout",
          "output_type": "stream",
          "text": [
            "Loaded as API: https://dataguychill-sentiment.hf.space ✔\n"
          ]
        }
      ],
      "source": [
        "# ===========================\n",
        "# 4. Tải mô hình học sinh và định nghĩa Dataset\n",
        "# ===========================\n",
        "student_model = DistilBertForSequenceClassification.from_pretrained(\n",
        "    \"distilbert-base-uncased\", num_labels=3\n",
        ")\n",
        "device = torch.device(\"cuda\") if torch.cuda.is_available() else torch.device(\"cpu\")\n",
        "student_model.to(device)\n",
        "\n",
        "# Khởi tạo client cho mô hình giáo viên Gradio\n",
        "try:\n",
        "    from gradio_client import Client\n",
        "    teacher_client = Client(\"dataguychill/sentiment\")\n",
        "except ImportError:\n",
        "    raise ImportError(\"Vui lòng cài đặt gradio_client: pip install gradio_client\")\n",
        "\n",
        "# Chuyển đổi nhãn string từ Gradio sang số\n",
        "label_map = {\"negative\": 0, \"neutral\": 1, \"positive\": 2}\n"
      ]
    },
    {
      "cell_type": "code",
      "execution_count": null,
      "metadata": {
        "colab": {
          "base_uri": "https://localhost:8080/"
        },
        "id": "k3M_5KpFnPzD",
        "outputId": "e217e5de-35f3-4fd5-99ca-c76f63f5ba9c"
      },
      "outputs": [
        {
          "name": "stdout",
          "output_type": "stream",
          "text": [
            "batch keys: dict_keys(['input_ids', 'attention_mask', 'labels'])\n",
            "input_ids shape: torch.Size([32, 128])\n",
            "attention_mask shape: torch.Size([32, 128])\n",
            "labels shape: torch.Size([32])\n"
          ]
        }
      ],
      "source": [
        "import torch\n",
        "from torch.utils.data import Dataset, DataLoader\n",
        "from tqdm.auto import tqdm\n",
        "\n",
        "class HardLabelDistillationDataset(Dataset):\n",
        "    def __init__(self, tokenized_datasets, original_datasets, teacher_client, label_map):\n",
        "        # tokenized_datasets: HuggingFace DatasetDict with tokenized fields\n",
        "        # original_datasets: original HF DatasetDict with \"text\"\n",
        "        self.tokenized = tokenized_datasets[\"train\"]\n",
        "        self.original = original_datasets[\"train\"]\n",
        "        self.teacher_client = teacher_client\n",
        "        self.label_map = label_map\n",
        "        self.hard_labels_cache = {}\n",
        "\n",
        "    def __len__(self):\n",
        "        return len(self.tokenized)\n",
        "\n",
        "    def __getitem__(self, idx):\n",
        "        item = self.tokenized[idx]\n",
        "        text_data = self.original[idx][\"text\"]\n",
        "\n",
        "        # Normalise text to string\n",
        "        if isinstance(text_data, list):\n",
        "            text = str(text_data[0])\n",
        "        elif isinstance(text_data, str):\n",
        "            text = text_data\n",
        "        else:\n",
        "            text = str(text_data)\n",
        "\n",
        "        # lấy nhãn hard từ cache hoặc gọi teacher\n",
        "        if text in self.hard_labels_cache:\n",
        "            hard_label = self.hard_labels_cache[text]\n",
        "        else:\n",
        "            try:\n",
        "                result = self.teacher_client.predict(text, api_name=\"/predict\")\n",
        "                hard_label = self.label_map.get(result, 1)  # fallback = 1 (neutral)\n",
        "            except Exception as e:\n",
        "                print(f\"Warn: teacher call failed for text[:50]={text[:50]}..., err={e}\")\n",
        "                hard_label = 1\n",
        "            self.hard_labels_cache[text] = hard_label\n",
        "\n",
        "        # Trả về dict với kiểu an toàn cho DataLoader\n",
        "        return {\n",
        "            \"input_ids\": torch.tensor(item[\"input_ids\"], dtype=torch.long),\n",
        "            \"attention_mask\": torch.tensor(item[\"attention_mask\"], dtype=torch.long),\n",
        "            # Trả về nhãn là int (Không phải 0-dim tensor)\n",
        "            \"labels\": int(hard_label)\n",
        "        }\n",
        "\n",
        "# ==== Usage/check ====\n",
        "distillation_train_dataset = HardLabelDistillationDataset(tokenized_datasets, dataset, teacher_client, label_map)\n",
        "train_dataloader = DataLoader(distillation_train_dataset, shuffle=True, batch_size=32)\n",
        "\n",
        "# Quick sanity check shapes (lấy 1 batch)\n",
        "batch = next(iter(train_dataloader))\n",
        "print(\"batch keys:\", batch.keys())\n",
        "print(\"input_ids shape:\", batch[\"input_ids\"].shape)        # (B, seq_len)\n",
        "print(\"attention_mask shape:\", batch[\"attention_mask\"].shape)\n",
        "print(\"labels shape:\", batch[\"labels\"].shape)              # (B,)\n"
      ]
    },
    {
      "cell_type": "code",
      "execution_count": null,
      "metadata": {
        "colab": {
          "background_save": true,
          "base_uri": "https://localhost:8080/",
          "height": 49,
          "referenced_widgets": [
            "0226897ca38941d4919886aa2fd46134",
            "1d80d357b6da4e7f9df9be2cf2819564",
            "f385dd1128f044a2bdd114f4a3bdf735",
            "8b2080ba53ad43f992fb7de56d43828f",
            "23929f5985ef41d58fa68112cc89d908",
            "021f0531ac984647979bf5e1ccb2902d",
            "fa49e071ad0f4736bff80f34ee8f4109",
            "2c840b543756433fa10ec8b1b3952d83",
            "01bed2aa8b3442fab01495658dd5d1e0",
            "f3a35ac337794803bf3e2db99ed84076",
            "40a09586ec2a4f41903198057baff355"
          ]
        },
        "id": "iwg3p5M0iXQc",
        "outputId": "e02556ed-828c-4b4a-9c10-3e8f1df4b57a"
      },
      "outputs": [
        {
          "data": {
            "application/vnd.jupyter.widget-view+json": {
              "model_id": "0226897ca38941d4919886aa2fd46134",
              "version_major": 2,
              "version_minor": 0
            },
            "text/plain": [
              "  0%|          | 0/4071 [00:00<?, ?it/s]"
            ]
          },
          "metadata": {},
          "output_type": "display_data"
        }
      ],
      "source": [
        "from transformers import get_scheduler\n",
        "import torch.nn.functional as F\n",
        "import torch\n",
        "\n",
        "device = torch.device(\"cuda\") if torch.cuda.is_available() else torch.device(\"cpu\")\n",
        "student_model.to(device)\n",
        "\n",
        "optimizer = torch.optim.AdamW(student_model.parameters(), lr=5e-5)\n",
        "num_epochs = 3\n",
        "num_training_steps = num_epochs * len(train_dataloader)\n",
        "lr_scheduler = get_scheduler(\"linear\", optimizer=optimizer, num_warmup_steps=0, num_training_steps=num_training_steps)\n",
        "\n",
        "progress_bar = tqdm(range(num_training_steps))\n",
        "student_model.train()\n",
        "\n",
        "for epoch in range(num_epochs):\n",
        "    epoch_loss = 0.0\n",
        "    for batch in train_dataloader:\n",
        "        # batch[\"labels\"] is tensor shaped (B,) if DataLoader collated ints -> tensor\n",
        "        batch = {k: v.to(device) for k, v in batch.items()}\n",
        "        labels = batch.pop(\"labels\")  # shape (B,)\n",
        "        outputs = student_model(**batch)\n",
        "        logits = outputs.logits  # (B, C)\n",
        "        loss = F.cross_entropy(logits, labels)\n",
        "        loss.backward()\n",
        "        optimizer.step()\n",
        "        lr_scheduler.step()\n",
        "        optimizer.zero_grad()\n",
        "\n",
        "        epoch_loss += loss.item()\n",
        "        progress_bar.update(1)\n",
        "\n",
        "    print(f\"Epoch {epoch+1} loss: {epoch_loss/len(train_dataloader):.4f}\")\n"
      ]
    }
  ],
  "metadata": {
    "accelerator": "GPU",
    "colab": {
      "gpuType": "T4",
      "provenance": []
    },
    "kernelspec": {
      "display_name": "Python 3",
      "name": "python3"
    },
    "language_info": {
      "name": "python"
    },
    "widgets": {
      "application/vnd.jupyter.widget-state+json": {
        "01bed2aa8b3442fab01495658dd5d1e0": {
          "model_module": "@jupyter-widgets/controls",
          "model_module_version": "1.5.0",
          "model_name": "ProgressStyleModel",
          "state": {
            "_model_module": "@jupyter-widgets/controls",
            "_model_module_version": "1.5.0",
            "_model_name": "ProgressStyleModel",
            "_view_count": null,
            "_view_module": "@jupyter-widgets/base",
            "_view_module_version": "1.2.0",
            "_view_name": "StyleView",
            "bar_color": null,
            "description_width": ""
          }
        },
        "021f0531ac984647979bf5e1ccb2902d": {
          "model_module": "@jupyter-widgets/base",
          "model_module_version": "1.2.0",
          "model_name": "LayoutModel",
          "state": {
            "_model_module": "@jupyter-widgets/base",
            "_model_module_version": "1.2.0",
            "_model_name": "LayoutModel",
            "_view_count": null,
            "_view_module": "@jupyter-widgets/base",
            "_view_module_version": "1.2.0",
            "_view_name": "LayoutView",
            "align_content": null,
            "align_items": null,
            "align_self": null,
            "border": null,
            "bottom": null,
            "display": null,
            "flex": null,
            "flex_flow": null,
            "grid_area": null,
            "grid_auto_columns": null,
            "grid_auto_flow": null,
            "grid_auto_rows": null,
            "grid_column": null,
            "grid_gap": null,
            "grid_row": null,
            "grid_template_areas": null,
            "grid_template_columns": null,
            "grid_template_rows": null,
            "height": null,
            "justify_content": null,
            "justify_items": null,
            "left": null,
            "margin": null,
            "max_height": null,
            "max_width": null,
            "min_height": null,
            "min_width": null,
            "object_fit": null,
            "object_position": null,
            "order": null,
            "overflow": null,
            "overflow_x": null,
            "overflow_y": null,
            "padding": null,
            "right": null,
            "top": null,
            "visibility": null,
            "width": null
          }
        },
        "0226897ca38941d4919886aa2fd46134": {
          "model_module": "@jupyter-widgets/controls",
          "model_module_version": "1.5.0",
          "model_name": "HBoxModel",
          "state": {
            "_dom_classes": [],
            "_model_module": "@jupyter-widgets/controls",
            "_model_module_version": "1.5.0",
            "_model_name": "HBoxModel",
            "_view_count": null,
            "_view_module": "@jupyter-widgets/controls",
            "_view_module_version": "1.5.0",
            "_view_name": "HBoxView",
            "box_style": "",
            "children": [
              "IPY_MODEL_1d80d357b6da4e7f9df9be2cf2819564",
              "IPY_MODEL_f385dd1128f044a2bdd114f4a3bdf735",
              "IPY_MODEL_8b2080ba53ad43f992fb7de56d43828f"
            ],
            "layout": "IPY_MODEL_23929f5985ef41d58fa68112cc89d908"
          }
        },
        "1d80d357b6da4e7f9df9be2cf2819564": {
          "model_module": "@jupyter-widgets/controls",
          "model_module_version": "1.5.0",
          "model_name": "HTMLModel",
          "state": {
            "_dom_classes": [],
            "_model_module": "@jupyter-widgets/controls",
            "_model_module_version": "1.5.0",
            "_model_name": "HTMLModel",
            "_view_count": null,
            "_view_module": "@jupyter-widgets/controls",
            "_view_module_version": "1.5.0",
            "_view_name": "HTMLView",
            "description": "",
            "description_tooltip": null,
            "layout": "IPY_MODEL_021f0531ac984647979bf5e1ccb2902d",
            "placeholder": "​",
            "style": "IPY_MODEL_fa49e071ad0f4736bff80f34ee8f4109",
            "value": "  5%"
          }
        },
        "23929f5985ef41d58fa68112cc89d908": {
          "model_module": "@jupyter-widgets/base",
          "model_module_version": "1.2.0",
          "model_name": "LayoutModel",
          "state": {
            "_model_module": "@jupyter-widgets/base",
            "_model_module_version": "1.2.0",
            "_model_name": "LayoutModel",
            "_view_count": null,
            "_view_module": "@jupyter-widgets/base",
            "_view_module_version": "1.2.0",
            "_view_name": "LayoutView",
            "align_content": null,
            "align_items": null,
            "align_self": null,
            "border": null,
            "bottom": null,
            "display": null,
            "flex": null,
            "flex_flow": null,
            "grid_area": null,
            "grid_auto_columns": null,
            "grid_auto_flow": null,
            "grid_auto_rows": null,
            "grid_column": null,
            "grid_gap": null,
            "grid_row": null,
            "grid_template_areas": null,
            "grid_template_columns": null,
            "grid_template_rows": null,
            "height": null,
            "justify_content": null,
            "justify_items": null,
            "left": null,
            "margin": null,
            "max_height": null,
            "max_width": null,
            "min_height": null,
            "min_width": null,
            "object_fit": null,
            "object_position": null,
            "order": null,
            "overflow": null,
            "overflow_x": null,
            "overflow_y": null,
            "padding": null,
            "right": null,
            "top": null,
            "visibility": null,
            "width": null
          }
        },
        "2c840b543756433fa10ec8b1b3952d83": {
          "model_module": "@jupyter-widgets/base",
          "model_module_version": "1.2.0",
          "model_name": "LayoutModel",
          "state": {
            "_model_module": "@jupyter-widgets/base",
            "_model_module_version": "1.2.0",
            "_model_name": "LayoutModel",
            "_view_count": null,
            "_view_module": "@jupyter-widgets/base",
            "_view_module_version": "1.2.0",
            "_view_name": "LayoutView",
            "align_content": null,
            "align_items": null,
            "align_self": null,
            "border": null,
            "bottom": null,
            "display": null,
            "flex": null,
            "flex_flow": null,
            "grid_area": null,
            "grid_auto_columns": null,
            "grid_auto_flow": null,
            "grid_auto_rows": null,
            "grid_column": null,
            "grid_gap": null,
            "grid_row": null,
            "grid_template_areas": null,
            "grid_template_columns": null,
            "grid_template_rows": null,
            "height": null,
            "justify_content": null,
            "justify_items": null,
            "left": null,
            "margin": null,
            "max_height": null,
            "max_width": null,
            "min_height": null,
            "min_width": null,
            "object_fit": null,
            "object_position": null,
            "order": null,
            "overflow": null,
            "overflow_x": null,
            "overflow_y": null,
            "padding": null,
            "right": null,
            "top": null,
            "visibility": null,
            "width": null
          }
        },
        "40a09586ec2a4f41903198057baff355": {
          "model_module": "@jupyter-widgets/controls",
          "model_module_version": "1.5.0",
          "model_name": "DescriptionStyleModel",
          "state": {
            "_model_module": "@jupyter-widgets/controls",
            "_model_module_version": "1.5.0",
            "_model_name": "DescriptionStyleModel",
            "_view_count": null,
            "_view_module": "@jupyter-widgets/base",
            "_view_module_version": "1.2.0",
            "_view_name": "StyleView",
            "description_width": ""
          }
        },
        "8b2080ba53ad43f992fb7de56d43828f": {
          "model_module": "@jupyter-widgets/controls",
          "model_module_version": "1.5.0",
          "model_name": "HTMLModel",
          "state": {
            "_dom_classes": [],
            "_model_module": "@jupyter-widgets/controls",
            "_model_module_version": "1.5.0",
            "_model_name": "HTMLModel",
            "_view_count": null,
            "_view_module": "@jupyter-widgets/controls",
            "_view_module_version": "1.5.0",
            "_view_name": "HTMLView",
            "description": "",
            "description_tooltip": null,
            "layout": "IPY_MODEL_f3a35ac337794803bf3e2db99ed84076",
            "placeholder": "​",
            "style": "IPY_MODEL_40a09586ec2a4f41903198057baff355",
            "value": " 203/4071 [53:36&lt;17:07:00, 15.93s/it]"
          }
        },
        "f385dd1128f044a2bdd114f4a3bdf735": {
          "model_module": "@jupyter-widgets/controls",
          "model_module_version": "1.5.0",
          "model_name": "FloatProgressModel",
          "state": {
            "_dom_classes": [],
            "_model_module": "@jupyter-widgets/controls",
            "_model_module_version": "1.5.0",
            "_model_name": "FloatProgressModel",
            "_view_count": null,
            "_view_module": "@jupyter-widgets/controls",
            "_view_module_version": "1.5.0",
            "_view_name": "ProgressView",
            "bar_style": "",
            "description": "",
            "description_tooltip": null,
            "layout": "IPY_MODEL_2c840b543756433fa10ec8b1b3952d83",
            "max": 4071,
            "min": 0,
            "orientation": "horizontal",
            "style": "IPY_MODEL_01bed2aa8b3442fab01495658dd5d1e0",
            "value": 203
          }
        },
        "f3a35ac337794803bf3e2db99ed84076": {
          "model_module": "@jupyter-widgets/base",
          "model_module_version": "1.2.0",
          "model_name": "LayoutModel",
          "state": {
            "_model_module": "@jupyter-widgets/base",
            "_model_module_version": "1.2.0",
            "_model_name": "LayoutModel",
            "_view_count": null,
            "_view_module": "@jupyter-widgets/base",
            "_view_module_version": "1.2.0",
            "_view_name": "LayoutView",
            "align_content": null,
            "align_items": null,
            "align_self": null,
            "border": null,
            "bottom": null,
            "display": null,
            "flex": null,
            "flex_flow": null,
            "grid_area": null,
            "grid_auto_columns": null,
            "grid_auto_flow": null,
            "grid_auto_rows": null,
            "grid_column": null,
            "grid_gap": null,
            "grid_row": null,
            "grid_template_areas": null,
            "grid_template_columns": null,
            "grid_template_rows": null,
            "height": null,
            "justify_content": null,
            "justify_items": null,
            "left": null,
            "margin": null,
            "max_height": null,
            "max_width": null,
            "min_height": null,
            "min_width": null,
            "object_fit": null,
            "object_position": null,
            "order": null,
            "overflow": null,
            "overflow_x": null,
            "overflow_y": null,
            "padding": null,
            "right": null,
            "top": null,
            "visibility": null,
            "width": null
          }
        },
        "fa49e071ad0f4736bff80f34ee8f4109": {
          "model_module": "@jupyter-widgets/controls",
          "model_module_version": "1.5.0",
          "model_name": "DescriptionStyleModel",
          "state": {
            "_model_module": "@jupyter-widgets/controls",
            "_model_module_version": "1.5.0",
            "_model_name": "DescriptionStyleModel",
            "_view_count": null,
            "_view_module": "@jupyter-widgets/base",
            "_view_module_version": "1.2.0",
            "_view_name": "StyleView",
            "description_width": ""
          }
        }
      }
    }
  },
  "nbformat": 4,
  "nbformat_minor": 0
}